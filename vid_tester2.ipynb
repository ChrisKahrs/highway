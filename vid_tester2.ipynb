{
 "cells": [
  {
   "cell_type": "markdown",
   "metadata": {},
   "source": [
    "Do this in the terminal\n",
    "* conda install -n ghcs_env ipykernel --update-deps --force-reinstall\n",
    "\n"
   ]
  },
  {
   "cell_type": "code",
   "execution_count": 1,
   "metadata": {},
   "outputs": [
    {
     "name": "stdout",
     "output_type": "stream",
     "text": [
      "Requirement already satisfied: pygame in /usr/local/python/3.10.4/lib/python3.10/site-packages (2.1.0)\n",
      "Note: you may need to restart the kernel to use updated packages.\n",
      "Requirement already satisfied: opencv-python in /usr/local/python/3.10.4/lib/python3.10/site-packages (4.6.0.66)\n",
      "Requirement already satisfied: numpy>=1.19.3 in /home/codespace/.local/lib/python3.10/site-packages (from opencv-python) (1.23.3)\n",
      "Note: you may need to restart the kernel to use updated packages.\n",
      "Requirement already satisfied: opencv-contrib-python in /usr/local/python/3.10.4/lib/python3.10/site-packages (4.6.0.66)\n",
      "Requirement already satisfied: numpy>=1.14.5 in /home/codespace/.local/lib/python3.10/site-packages (from opencv-contrib-python) (1.23.3)\n",
      "Note: you may need to restart the kernel to use updated packages.\n",
      "Requirement already satisfied: imutils in /usr/local/python/3.10.4/lib/python3.10/site-packages (0.5.4)\n",
      "Note: you may need to restart the kernel to use updated packages.\n",
      "Requirement already satisfied: matplotlib in /home/codespace/.local/lib/python3.10/site-packages (3.6.0)\n",
      "Requirement already satisfied: fonttools>=4.22.0 in /home/codespace/.local/lib/python3.10/site-packages (from matplotlib) (4.37.4)\n",
      "Requirement already satisfied: packaging>=20.0 in /home/codespace/.local/lib/python3.10/site-packages (from matplotlib) (21.3)\n",
      "Requirement already satisfied: python-dateutil>=2.7 in /home/codespace/.local/lib/python3.10/site-packages (from matplotlib) (2.8.2)\n",
      "Requirement already satisfied: cycler>=0.10 in /home/codespace/.local/lib/python3.10/site-packages (from matplotlib) (0.11.0)\n",
      "Requirement already satisfied: pillow>=6.2.0 in /home/codespace/.local/lib/python3.10/site-packages (from matplotlib) (9.2.0)\n",
      "Requirement already satisfied: pyparsing>=2.2.1 in /home/codespace/.local/lib/python3.10/site-packages (from matplotlib) (3.0.9)\n",
      "Requirement already satisfied: numpy>=1.19 in /home/codespace/.local/lib/python3.10/site-packages (from matplotlib) (1.23.3)\n",
      "Requirement already satisfied: kiwisolver>=1.0.1 in /home/codespace/.local/lib/python3.10/site-packages (from matplotlib) (1.4.4)\n",
      "Requirement already satisfied: contourpy>=1.0.1 in /home/codespace/.local/lib/python3.10/site-packages (from matplotlib) (1.0.5)\n",
      "Requirement already satisfied: six>=1.5 in /home/codespace/.local/lib/python3.10/site-packages (from python-dateutil>=2.7->matplotlib) (1.16.0)\n",
      "Note: you may need to restart the kernel to use updated packages.\n",
      "Requirement already satisfied: numpy in /home/codespace/.local/lib/python3.10/site-packages (1.23.3)\n",
      "Note: you may need to restart the kernel to use updated packages.\n",
      "Requirement already satisfied: scipy in /home/codespace/.local/lib/python3.10/site-packages (1.9.1)\n",
      "Requirement already satisfied: numpy<1.25.0,>=1.18.5 in /home/codespace/.local/lib/python3.10/site-packages (from scipy) (1.23.3)\n",
      "Note: you may need to restart the kernel to use updated packages.\n",
      "Requirement already satisfied: gymnasium in /usr/local/python/3.10.4/lib/python3.10/site-packages (0.26.2)\n",
      "Requirement already satisfied: cloudpickle>=1.2.0 in /usr/local/python/3.10.4/lib/python3.10/site-packages (from gymnasium) (2.2.0)\n",
      "Requirement already satisfied: gymnasium-notices>=0.0.1 in /usr/local/python/3.10.4/lib/python3.10/site-packages (from gymnasium) (0.0.1)\n",
      "Requirement already satisfied: numpy>=1.18.0 in /home/codespace/.local/lib/python3.10/site-packages (from gymnasium) (1.23.3)\n",
      "Note: you may need to restart the kernel to use updated packages.\n"
     ]
    }
   ],
   "source": [
    "%pip install pygame\n",
    "%pip install opencv-python\n",
    "%pip install opencv-contrib-python\n",
    "%pip install imutils\n",
    "%pip install matplotlib\n",
    "%pip install numpy\n",
    "%pip install scipy\n",
    "%pip install gymnasium\n"
   ]
  },
  {
   "cell_type": "code",
   "execution_count": 2,
   "metadata": {},
   "outputs": [],
   "source": [
    "!apt-get install -y xvfb python-opengl > /dev/null 2>&1\n"
   ]
  },
  {
   "cell_type": "code",
   "execution_count": 3,
   "metadata": {},
   "outputs": [
    {
     "name": "stdout",
     "output_type": "stream",
     "text": [
      "Note: you may need to restart the kernel to use updated packages.\n"
     ]
    }
   ],
   "source": [
    "%pip install gym pyvirtualdisplay > /dev/null 2>&1\n"
   ]
  },
  {
   "cell_type": "code",
   "execution_count": 4,
   "metadata": {},
   "outputs": [
    {
     "name": "stdout",
     "output_type": "stream",
     "text": [
      "Collecting git+https://github.com/eleurent/highway-env\n",
      "  Cloning https://github.com/eleurent/highway-env to /tmp/pip-req-build-kknywxga\n",
      "  Running command git clone --filter=blob:none --quiet https://github.com/eleurent/highway-env /tmp/pip-req-build-kknywxga\n",
      "  Resolved https://github.com/eleurent/highway-env to commit 475a4c2e727271eb0102a30fd281114c953b5d4a\n",
      "  Installing build dependencies ... \u001b[?25ldone\n",
      "\u001b[?25h  Getting requirements to build wheel ... \u001b[?25ldone\n",
      "\u001b[?25h  Installing backend dependencies ... \u001b[?25ldone\n",
      "\u001b[?25h  Preparing metadata (pyproject.toml) ... \u001b[?25ldone\n",
      "\u001b[?25hRequirement already satisfied: pandas in /home/codespace/.local/lib/python3.10/site-packages (from highway-env==1.6) (1.5.0)\n",
      "Requirement already satisfied: gym>=0.26 in /usr/local/python/3.10.4/lib/python3.10/site-packages (from highway-env==1.6) (0.26.2)\n",
      "Requirement already satisfied: matplotlib in /home/codespace/.local/lib/python3.10/site-packages (from highway-env==1.6) (3.6.0)\n",
      "Requirement already satisfied: pygame>=2.0.2 in /usr/local/python/3.10.4/lib/python3.10/site-packages (from highway-env==1.6) (2.1.0)\n",
      "Requirement already satisfied: scipy in /home/codespace/.local/lib/python3.10/site-packages (from highway-env==1.6) (1.9.1)\n",
      "Requirement already satisfied: numpy in /home/codespace/.local/lib/python3.10/site-packages (from highway-env==1.6) (1.23.3)\n",
      "Requirement already satisfied: cloudpickle>=1.2.0 in /usr/local/python/3.10.4/lib/python3.10/site-packages (from gym>=0.26->highway-env==1.6) (2.2.0)\n",
      "Requirement already satisfied: gym-notices>=0.0.4 in /usr/local/python/3.10.4/lib/python3.10/site-packages (from gym>=0.26->highway-env==1.6) (0.0.8)\n",
      "Requirement already satisfied: pillow>=6.2.0 in /home/codespace/.local/lib/python3.10/site-packages (from matplotlib->highway-env==1.6) (9.2.0)\n",
      "Requirement already satisfied: kiwisolver>=1.0.1 in /home/codespace/.local/lib/python3.10/site-packages (from matplotlib->highway-env==1.6) (1.4.4)\n",
      "Requirement already satisfied: contourpy>=1.0.1 in /home/codespace/.local/lib/python3.10/site-packages (from matplotlib->highway-env==1.6) (1.0.5)\n",
      "Requirement already satisfied: cycler>=0.10 in /home/codespace/.local/lib/python3.10/site-packages (from matplotlib->highway-env==1.6) (0.11.0)\n",
      "Requirement already satisfied: fonttools>=4.22.0 in /home/codespace/.local/lib/python3.10/site-packages (from matplotlib->highway-env==1.6) (4.37.4)\n",
      "Requirement already satisfied: packaging>=20.0 in /home/codespace/.local/lib/python3.10/site-packages (from matplotlib->highway-env==1.6) (21.3)\n",
      "Requirement already satisfied: python-dateutil>=2.7 in /home/codespace/.local/lib/python3.10/site-packages (from matplotlib->highway-env==1.6) (2.8.2)\n",
      "Requirement already satisfied: pyparsing>=2.2.1 in /home/codespace/.local/lib/python3.10/site-packages (from matplotlib->highway-env==1.6) (3.0.9)\n",
      "Requirement already satisfied: pytz>=2020.1 in /home/codespace/.local/lib/python3.10/site-packages (from pandas->highway-env==1.6) (2022.4)\n",
      "Requirement already satisfied: six>=1.5 in /home/codespace/.local/lib/python3.10/site-packages (from python-dateutil>=2.7->matplotlib->highway-env==1.6) (1.16.0)\n",
      "Note: you may need to restart the kernel to use updated packages.\n"
     ]
    }
   ],
   "source": [
    "%pip install git+https://github.com/eleurent/highway-env"
   ]
  },
  {
   "cell_type": "code",
   "execution_count": 5,
   "metadata": {},
   "outputs": [
    {
     "name": "stdout",
     "output_type": "stream",
     "text": [
      "Requirement already satisfied: pip in /usr/local/python/3.10.4/lib/python3.10/site-packages (22.3)\n",
      "Note: you may need to restart the kernel to use updated packages.\n"
     ]
    }
   ],
   "source": [
    "%pip install --upgrade pip"
   ]
  },
  {
   "cell_type": "code",
   "execution_count": 6,
   "metadata": {},
   "outputs": [],
   "source": [
    "import gym\n",
    "import numpy as np\n",
    "import matplotlib.pyplot as plt\n",
    "from IPython import display as ipythondisplay"
   ]
  },
  {
   "cell_type": "code",
   "execution_count": 7,
   "metadata": {},
   "outputs": [
    {
     "data": {
      "text/plain": [
       "<pyvirtualdisplay.display.Display at 0x7f38400e3d60>"
      ]
     },
     "execution_count": 7,
     "metadata": {},
     "output_type": "execute_result"
    }
   ],
   "source": [
    "from pyvirtualdisplay import Display\n",
    "display = Display(visible=0, size=(400, 300))\n",
    "display.start()"
   ]
  },
  {
   "cell_type": "code",
   "execution_count": 8,
   "metadata": {},
   "outputs": [
    {
     "name": "stderr",
     "output_type": "stream",
     "text": [
      "/home/codespace/.python/current/lib/python3.10/site-packages/gym/utils/passive_env_checker.py:31: UserWarning: \u001b[33mWARN: A Box observation space has an unconventional shape (neither an image, nor a 1D vector). We recommend flattening the observation to have only a 1D vector or use a custom policy to properly process the data. Actual observation shape: (5, 5)\u001b[0m\n",
      "  logger.warn(\n",
      "/home/codespace/.python/current/lib/python3.10/site-packages/gym/utils/passive_env_checker.py:289: UserWarning: \u001b[33mWARN: No render fps was declared in the environment (env.metadata['render_fps'] is None or not defined), rendering may occur at inconsistent fps.\u001b[0m\n",
      "  logger.warn(\n"
     ]
    },
    {
     "name": "stdout",
     "output_type": "stream",
     "text": [
      "{'observation': {'type': 'Kinematics'}, 'action': {'type': 'DiscreteMetaAction'}, 'simulation_frequency': 5, 'policy_frequency': 1, 'other_vehicles_type': 'highway_env.vehicle.behavior.IDMVehicle', 'screen_width': 600, 'screen_height': 150, 'centering_position': [0.3, 0.5], 'scaling': 5.5, 'show_trajectories': False, 'render_agent': True, 'offscreen_rendering': False, 'manual_control': False, 'real_time_rendering': False, 'lanes_count': 3, 'vehicles_count': 20, 'controlled_vehicles': 1, 'initial_lane_id': None, 'duration': 30, 'ego_spacing': 1.5, 'vehicles_density': 1, 'collision_reward': -1, 'right_lane_reward': 0.1, 'high_speed_reward': 0.4, 'lane_change_reward': 0, 'reward_speed_range': [20, 30], 'normalize_reward': True, 'offroad_terminal': False}\n"
     ]
    },
    {
     "data": {
      "image/png": "[encoded data removed]",
      "text/plain": [
       "<Figure size 640x480 with 1 Axes>"
      ]
     },
     "metadata": {},
     "output_type": "display_data"
    },
    {
     "data": {
      "image/png": "[encoded data removed]",
      "text/plain": [
       "<Figure size 640x480 with 1 Axes>"
      ]
     },
     "metadata": {},
     "output_type": "display_data"
    },
    {
     "data": {
      "image/png": "[encoded data removed]",
      "text/plain": [
       "<Figure size 640x480 with 1 Axes>"
      ]
     },
     "metadata": {},
     "output_type": "display_data"
    },
    {
     "name": "stdout",
     "output_type": "stream",
     "text": [
      "count:  3\n"
     ]
    },
    {
     "data": {
      "image/png": "[encoded data removed]",
      "text/plain": [
       "<Figure size 640x480 with 1 Axes>"
      ]
     },
     "metadata": {},
     "output_type": "display_data"
    }
   ],
   "source": [
    "import pygame\n",
    "import highway_env\n",
    "import pprint\n",
    "\n",
    "env = gym.make(\"highway-fast-v0\")\n",
    "env.reset()\n",
    "print(env.config)\n",
    "prev_screen = env.render(mode='rgb_array')\n",
    "plt.imshow(prev_screen)\n",
    "screens = []\n",
    "count = 0\n",
    "\n",
    "for i in range(50):\n",
    "  action = env.action_space.sample()\n",
    "  obs, reward, done, truncated, info = env.step(action)\n",
    "  screen = env.render(mode='rgb_array')\n",
    "  # print(obs)\n",
    "  screens.append(screen)\n",
    "  \n",
    "  plt.imshow(screen)\n",
    "  # ipythondisplay.clear_output(wait=True)\n",
    "  ipythondisplay.display(plt.gcf())\n",
    "  count += 1\n",
    "  \n",
    "\n",
    "  if done:\n",
    "    break\n",
    "    \n",
    "# ipythondisplay.clear_output(wait=True)\n",
    "print(\"count: \", count)\n",
    "env.close()"
   ]
  },
  {
   "cell_type": "code",
   "execution_count": 9,
   "metadata": {},
   "outputs": [
    {
     "data": {
      "text/plain": [
       "<pyvirtualdisplay.display.Display at 0x7f38400e3d60>"
      ]
     },
     "execution_count": 9,
     "metadata": {},
     "output_type": "execute_result"
    }
   ],
   "source": [
    "display.stop()"
   ]
  },
  {
   "cell_type": "code",
   "execution_count": 10,
   "metadata": {},
   "outputs": [
    {
     "name": "stdout",
     "output_type": "stream",
     "text": [
      "MoviePy - Building file test9.gif with imageio.\n"
     ]
    },
    {
     "name": "stderr",
     "output_type": "stream",
     "text": [
      "                                                   \r"
     ]
    }
   ],
   "source": [
    "from moviepy.editor import ImageSequenceClip\n",
    "clip = ImageSequenceClip(list(screens), fps=5)\n",
    "clip.write_gif('test9.gif', fps=15)"
   ]
  },
  {
   "cell_type": "code",
   "execution_count": 11,
   "metadata": {},
   "outputs": [
    {
     "name": "stdout",
     "output_type": "stream",
     "text": [
      "Moviepy - Building video flow9.mp4.\n",
      "Moviepy - Writing video flow9.mp4\n",
      "\n"
     ]
    },
    {
     "name": "stderr",
     "output_type": "stream",
     "text": [
      "                                                          \r"
     ]
    },
    {
     "name": "stdout",
     "output_type": "stream",
     "text": [
      "Moviepy - Done !\n",
      "Moviepy - video ready flow9.mp4\n",
      "Moviepy - Building video __temp__.mp4.\n",
      "Moviepy - Writing video __temp__.mp4\n",
      "\n"
     ]
    },
    {
     "name": "stderr",
     "output_type": "stream",
     "text": [
      "                                                  \r"
     ]
    },
    {
     "name": "stdout",
     "output_type": "stream",
     "text": [
      "Moviepy - Done !\n",
      "Moviepy - video ready __temp__.mp4\n"
     ]
    },
    {
     "data": {
      "text/html": [
       "<div align=middle><video verbose='1' loop='True' autoplay='True'src='data:video/mp4;base64,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' controls>Sorry, seems like your browser doesn't support HTML5 audio/video</video></div>"
      ],
      "text/plain": [
       "<moviepy.video.io.html_tools.HTML2 object>"
      ]
     },
     "execution_count": 11,
     "metadata": {},
     "output_type": "execute_result"
    }
   ],
   "source": [
    "import numpy as np\n",
    "from PIL import Image\n",
    " \n",
    "# importing movie py libraries\n",
    "from moviepy.editor import VideoClip\n",
    "from moviepy.editor import *\n",
    "\n",
    "# method to get frames\n",
    "def make_frame(t):\n",
    "    return screens[int(t)].astype(int)\n",
    " \n",
    "# creating Video Clip\n",
    "clip = VideoClip(make_frame, duration = 2)\n",
    "clip.set_duration(2)\n",
    "\n",
    "clip.write_videofile(\"flow9.mp4\", fps=2)\n",
    "# displaying clip\n",
    "clip .ipython_display(verbose=1, fps=1, loop = True, autoplay = True)"
   ]
  },
  {
   "cell_type": "code",
   "execution_count": 12,
   "metadata": {},
   "outputs": [
    {
     "data": {
      "text/plain": [
       "3"
      ]
     },
     "execution_count": 12,
     "metadata": {},
     "output_type": "execute_result"
    }
   ],
   "source": [
    "len(screens)"
   ]
  },
  {
   "cell_type": "code",
   "execution_count": 13,
   "metadata": {},
   "outputs": [
    {
     "name": "stdout",
     "output_type": "stream",
     "text": [
      "/home/codespace/.python/current/bin/python\n",
      "/home/codespace/.local/bin/jupyter\n"
     ]
    }
   ],
   "source": [
    "!which python\n",
    "!which jupyter"
   ]
  },
  {
   "cell_type": "code",
   "execution_count": 14,
   "metadata": {},
   "outputs": [
    {
     "name": "stdout",
     "output_type": "stream",
     "text": [
      "Name: highway-env\n",
      "Version: 1.6\n",
      "Summary: An environment for simulated highway driving tasks.\n",
      "Home-page: https://github.com/eleurent/highway-env\n",
      "Author: Edouard Leurent\n",
      "Author-email: eleurent@gmail.com\n",
      "License: MIT\n",
      "Location: /home/codespace/.local/lib/python3.10/site-packages\n",
      "Requires: gym, matplotlib, numpy, pandas, pygame, scipy\n",
      "Required-by: \n"
     ]
    }
   ],
   "source": [
    "!pip show highway-env\n",
    "import highway_env\n"
   ]
  },
  {
   "cell_type": "code",
   "execution_count": 15,
   "metadata": {},
   "outputs": [
    {
     "name": "stdout",
     "output_type": "stream",
     "text": [
      "Requirement already satisfied: highway-env in /home/codespace/.local/lib/python3.10/site-packages (1.6)\n",
      "Requirement already satisfied: pygame>=2.0.2 in /usr/local/python/3.10.4/lib/python3.10/site-packages (from highway-env) (2.1.0)\n",
      "Requirement already satisfied: pandas in /home/codespace/.local/lib/python3.10/site-packages (from highway-env) (1.5.0)\n",
      "Requirement already satisfied: matplotlib in /home/codespace/.local/lib/python3.10/site-packages (from highway-env) (3.6.0)\n",
      "Requirement already satisfied: numpy in /home/codespace/.local/lib/python3.10/site-packages (from highway-env) (1.23.3)\n",
      "Requirement already satisfied: scipy in /home/codespace/.local/lib/python3.10/site-packages (from highway-env) (1.9.1)\n",
      "Requirement already satisfied: gym>=0.26 in /usr/local/python/3.10.4/lib/python3.10/site-packages (from highway-env) (0.26.2)\n",
      "Requirement already satisfied: gym-notices>=0.0.4 in /usr/local/python/3.10.4/lib/python3.10/site-packages (from gym>=0.26->highway-env) (0.0.8)\n",
      "Requirement already satisfied: cloudpickle>=1.2.0 in /usr/local/python/3.10.4/lib/python3.10/site-packages (from gym>=0.26->highway-env) (2.2.0)\n",
      "Requirement already satisfied: pyparsing>=2.2.1 in /home/codespace/.local/lib/python3.10/site-packages (from matplotlib->highway-env) (3.0.9)\n",
      "Requirement already satisfied: cycler>=0.10 in /home/codespace/.local/lib/python3.10/site-packages (from matplotlib->highway-env) (0.11.0)\n",
      "Requirement already satisfied: pillow>=6.2.0 in /home/codespace/.local/lib/python3.10/site-packages (from matplotlib->highway-env) (9.2.0)\n",
      "Requirement already satisfied: python-dateutil>=2.7 in /home/codespace/.local/lib/python3.10/site-packages (from matplotlib->highway-env) (2.8.2)\n",
      "Requirement already satisfied: kiwisolver>=1.0.1 in /home/codespace/.local/lib/python3.10/site-packages (from matplotlib->highway-env) (1.4.4)\n",
      "Requirement already satisfied: packaging>=20.0 in /home/codespace/.local/lib/python3.10/site-packages (from matplotlib->highway-env) (21.3)\n",
      "Requirement already satisfied: fonttools>=4.22.0 in /home/codespace/.local/lib/python3.10/site-packages (from matplotlib->highway-env) (4.37.4)\n",
      "Requirement already satisfied: contourpy>=1.0.1 in /home/codespace/.local/lib/python3.10/site-packages (from matplotlib->highway-env) (1.0.5)\n",
      "Requirement already satisfied: pytz>=2020.1 in /home/codespace/.local/lib/python3.10/site-packages (from pandas->highway-env) (2022.4)\n",
      "Requirement already satisfied: six>=1.5 in /home/codespace/.local/lib/python3.10/site-packages (from python-dateutil>=2.7->matplotlib->highway-env) (1.16.0)\n",
      "Note: you may need to restart the kernel to use updated packages.\n"
     ]
    }
   ],
   "source": [
    "%pip install highway-env"
   ]
  },
  {
   "cell_type": "code",
   "execution_count": 16,
   "metadata": {},
   "outputs": [
    {
     "name": "stdout",
     "output_type": "stream",
     "text": [
      "<TimeLimit<OrderEnforcing<PassiveEnvChecker<LunarLander<LunarLander-v2>>>>>\n"
     ]
    }
   ],
   "source": [
    "import pprint\n",
    "import gym\n",
    "import highway_env\n",
    "\n",
    "env = gym.make(\"LunarLander-v2\")\n",
    "# env.configure({\"observation\": {\"type\": \"OccupancyGrid\"}})\n",
    "pprint.pprint(env)"
   ]
  },
  {
   "cell_type": "code",
   "execution_count": null,
   "metadata": {},
   "outputs": [],
   "source": []
  }
 ],
 "metadata": {
  "kernelspec": {
   "display_name": "Python 3.10.4 64-bit",
   "language": "python",
   "name": "python3"
  },
  "language_info": {
   "codemirror_mode": {
    "name": "ipython",
    "version": 3
   },
   "file_extension": ".py",
   "mimetype": "text/x-python",
   "name": "python",
   "nbconvert_exporter": "python",
   "pygments_lexer": "ipython3",
   "version": "3.10.4"
  },
  "orig_nbformat": 4,
  "vscode": {
   "interpreter": {
    "hash": "3ad933181bd8a04b432d3370b9dc3b0662ad032c4dfaa4e4f1596c548f763858"
   }
  }
 },
 "nbformat": 4,
 "nbformat_minor": 2
}
