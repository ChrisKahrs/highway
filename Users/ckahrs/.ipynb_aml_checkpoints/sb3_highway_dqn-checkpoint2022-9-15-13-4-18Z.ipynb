{
 "cells": [
  {
   "cell_type": "markdown",
   "metadata": {
    "id": "5eeje4O8fviH",
    "pycharm": {
     "name": "#%% md\n"
    }
   },
   "source": [
    "# Highway with SB3's DQN\n",
    "\n",
    "##  Warming up\n",
    "We start with a few useful installs and imports:"
   ]
  },
  {
   "cell_type": "code",
   "execution_count": 4,
   "metadata": {
    "id": "bzMSuJEOfviP",
    "pycharm": {
     "is_executing": false,
     "name": "#%%\n"
    }
   },
   "outputs": [
    {
     "name": "stdout",
     "output_type": "stream",
     "text": [
      "Requirement already satisfied: highway-env in c:\\users\\ckahrs\\anaconda3\\envs\\hw4_env\\lib\\site-packages (1.6)\n",
      "Requirement already satisfied: matplotlib in c:\\users\\ckahrs\\anaconda3\\envs\\hw4_env\\lib\\site-packages (from highway-env) (3.5.3)\n",
      "Requirement already satisfied: numpy in c:\\users\\ckahrs\\anaconda3\\envs\\hw4_env\\lib\\site-packages (from highway-env) (1.21.6)\n",
      "Requirement already satisfied: scipy in c:\\users\\ckahrs\\anaconda3\\envs\\hw4_env\\lib\\site-packages (from highway-env) (1.7.3)\n",
      "Collecting gym>=0.25\n",
      "  Using cached gym-0.26.2-py3-none-any.whl\n",
      "Requirement already satisfied: pandas in c:\\users\\ckahrs\\anaconda3\\envs\\hw4_env\\lib\\site-packages (from highway-env) (1.3.5)\n",
      "Requirement already satisfied: pygame>=2.0.2 in c:\\users\\ckahrs\\anaconda3\\envs\\hw4_env\\lib\\site-packages (from highway-env) (2.1.2)\n",
      "Requirement already satisfied: gym-notices>=0.0.4 in c:\\users\\ckahrs\\appdata\\roaming\\python\\python37\\site-packages (from gym>=0.25->highway-env) (0.0.8)\n",
      "Requirement already satisfied: cloudpickle>=1.2.0 in c:\\users\\ckahrs\\anaconda3\\envs\\hw4_env\\lib\\site-packages (from gym>=0.25->highway-env) (2.2.0)\n",
      "Requirement already satisfied: importlib-metadata>=4.8.0 in c:\\users\\ckahrs\\anaconda3\\envs\\hw4_env\\lib\\site-packages (from gym>=0.25->highway-env) (4.13.0)\n",
      "Requirement already satisfied: packaging>=20.0 in c:\\users\\ckahrs\\anaconda3\\envs\\hw4_env\\lib\\site-packages (from matplotlib->highway-env) (21.3)\n",
      "Requirement already satisfied: kiwisolver>=1.0.1 in c:\\users\\ckahrs\\anaconda3\\envs\\hw4_env\\lib\\site-packages (from matplotlib->highway-env) (1.4.4)\n",
      "Requirement already satisfied: pillow>=6.2.0 in c:\\users\\ckahrs\\anaconda3\\envs\\hw4_env\\lib\\site-packages (from matplotlib->highway-env) (9.2.0)\n",
      "Requirement already satisfied: fonttools>=4.22.0 in c:\\users\\ckahrs\\anaconda3\\envs\\hw4_env\\lib\\site-packages (from matplotlib->highway-env) (4.37.4)\n",
      "Requirement already satisfied: pyparsing>=2.2.1 in c:\\users\\ckahrs\\anaconda3\\envs\\hw4_env\\lib\\site-packages (from matplotlib->highway-env) (3.0.9)\n",
      "Requirement already satisfied: python-dateutil>=2.7 in c:\\users\\ckahrs\\anaconda3\\envs\\hw4_env\\lib\\site-packages (from matplotlib->highway-env) (2.8.2)\n",
      "Requirement already satisfied: cycler>=0.10 in c:\\users\\ckahrs\\anaconda3\\envs\\hw4_env\\lib\\site-packages (from matplotlib->highway-env) (0.11.0)\n",
      "Requirement already satisfied: pytz>=2017.3 in c:\\users\\ckahrs\\anaconda3\\envs\\hw4_env\\lib\\site-packages (from pandas->highway-env) (2022.4)\n",
      "Requirement already satisfied: zipp>=0.5 in c:\\users\\ckahrs\\anaconda3\\envs\\hw4_env\\lib\\site-packages (from importlib-metadata>=4.8.0->gym>=0.25->highway-env) (3.9.0)\n",
      "Requirement already satisfied: typing-extensions>=3.6.4 in c:\\users\\ckahrs\\anaconda3\\envs\\hw4_env\\lib\\site-packages (from importlib-metadata>=4.8.0->gym>=0.25->highway-env) (4.4.0)\n",
      "Requirement already satisfied: six>=1.5 in c:\\users\\ckahrs\\anaconda3\\envs\\hw4_env\\lib\\site-packages (from python-dateutil>=2.7->matplotlib->highway-env) (1.16.0)\n",
      "Installing collected packages: gym\n",
      "  Attempting uninstall: gym\n",
      "    Found existing installation: gym 0.21.0\n",
      "    Uninstalling gym-0.21.0:\n",
      "      Successfully uninstalled gym-0.21.0\n",
      "Successfully installed gym-0.26.2\n"
     ]
    },
    {
     "name": "stderr",
     "output_type": "stream",
     "text": [
      "ERROR: pip's dependency resolver does not currently take into account all the packages that are installed. This behaviour is the source of the following dependency conflicts.\n",
      "stable-baselines3 1.7.0a0 requires gym==0.21, but you have gym 0.26.2 which is incompatible.\n"
     ]
    },
    {
     "name": "stdout",
     "output_type": "stream",
     "text": [
      "Collecting git+https://github.com/DLR-RM/stable-baselines3\n",
      "  Cloning https://github.com/DLR-RM/stable-baselines3 to c:\\users\\ckahrs\\appdata\\local\\temp\\pip-req-build-c8png10r\n",
      "  Resolved https://github.com/DLR-RM/stable-baselines3 to commit cdcdd32c51c6b213500e436886b7cc392451e546\n",
      "  Preparing metadata (setup.py): started\n",
      "  Preparing metadata (setup.py): finished with status 'done'\n",
      "Collecting gym==0.21\n",
      "  Using cached gym-0.21.0-py3-none-any.whl\n",
      "Requirement already satisfied: numpy in c:\\users\\ckahrs\\anaconda3\\envs\\hw4_env\\lib\\site-packages (from stable-baselines3==1.7.0a0) (1.21.6)\n",
      "Requirement already satisfied: torch>=1.11 in c:\\users\\ckahrs\\anaconda3\\envs\\hw4_env\\lib\\site-packages (from stable-baselines3==1.7.0a0) (1.12.1)\n",
      "Requirement already satisfied: cloudpickle in c:\\users\\ckahrs\\anaconda3\\envs\\hw4_env\\lib\\site-packages (from stable-baselines3==1.7.0a0) (2.2.0)\n",
      "Requirement already satisfied: pandas in c:\\users\\ckahrs\\anaconda3\\envs\\hw4_env\\lib\\site-packages (from stable-baselines3==1.7.0a0) (1.3.5)\n",
      "Requirement already satisfied: matplotlib in c:\\users\\ckahrs\\anaconda3\\envs\\hw4_env\\lib\\site-packages (from stable-baselines3==1.7.0a0) (3.5.3)\n",
      "Requirement already satisfied: importlib-metadata~=4.13 in c:\\users\\ckahrs\\anaconda3\\envs\\hw4_env\\lib\\site-packages (from stable-baselines3==1.7.0a0) (4.13.0)\n",
      "Requirement already satisfied: typing-extensions>=3.6.4 in c:\\users\\ckahrs\\anaconda3\\envs\\hw4_env\\lib\\site-packages (from importlib-metadata~=4.13->stable-baselines3==1.7.0a0) (4.4.0)\n",
      "Requirement already satisfied: zipp>=0.5 in c:\\users\\ckahrs\\anaconda3\\envs\\hw4_env\\lib\\site-packages (from importlib-metadata~=4.13->stable-baselines3==1.7.0a0) (3.9.0)\n",
      "Requirement already satisfied: cycler>=0.10 in c:\\users\\ckahrs\\anaconda3\\envs\\hw4_env\\lib\\site-packages (from matplotlib->stable-baselines3==1.7.0a0) (0.11.0)\n",
      "Requirement already satisfied: pyparsing>=2.2.1 in c:\\users\\ckahrs\\anaconda3\\envs\\hw4_env\\lib\\site-packages (from matplotlib->stable-baselines3==1.7.0a0) (3.0.9)\n",
      "Requirement already satisfied: packaging>=20.0 in c:\\users\\ckahrs\\anaconda3\\envs\\hw4_env\\lib\\site-packages (from matplotlib->stable-baselines3==1.7.0a0) (21.3)\n",
      "Requirement already satisfied: fonttools>=4.22.0 in c:\\users\\ckahrs\\anaconda3\\envs\\hw4_env\\lib\\site-packages (from matplotlib->stable-baselines3==1.7.0a0) (4.37.4)\n",
      "Requirement already satisfied: python-dateutil>=2.7 in c:\\users\\ckahrs\\anaconda3\\envs\\hw4_env\\lib\\site-packages (from matplotlib->stable-baselines3==1.7.0a0) (2.8.2)\n",
      "Requirement already satisfied: pillow>=6.2.0 in c:\\users\\ckahrs\\anaconda3\\envs\\hw4_env\\lib\\site-packages (from matplotlib->stable-baselines3==1.7.0a0) (9.2.0)\n",
      "Requirement already satisfied: kiwisolver>=1.0.1 in c:\\users\\ckahrs\\anaconda3\\envs\\hw4_env\\lib\\site-packages (from matplotlib->stable-baselines3==1.7.0a0) (1.4.4)\n",
      "Requirement already satisfied: pytz>=2017.3 in c:\\users\\ckahrs\\anaconda3\\envs\\hw4_env\\lib\\site-packages (from pandas->stable-baselines3==1.7.0a0) (2022.4)\n",
      "Requirement already satisfied: six>=1.5 in c:\\users\\ckahrs\\anaconda3\\envs\\hw4_env\\lib\\site-packages (from python-dateutil>=2.7->matplotlib->stable-baselines3==1.7.0a0) (1.16.0)\n",
      "Installing collected packages: gym\n",
      "  Attempting uninstall: gym\n",
      "    Found existing installation: gym 0.26.2\n",
      "    Uninstalling gym-0.26.2:\n",
      "      Successfully uninstalled gym-0.26.2\n",
      "Successfully installed gym-0.21.0\n",
      "The tensorboard extension is already loaded. To reload it, use:\n",
      "  %reload_ext tensorboard\n"
     ]
    },
    {
     "name": "stderr",
     "output_type": "stream",
     "text": [
      "  Running command git clone --filter=blob:none --quiet https://github.com/DLR-RM/stable-baselines3 'C:\\Users\\ckahrs\\AppData\\Local\\Temp\\pip-req-build-c8png10r'\n",
      "ERROR: pip's dependency resolver does not currently take into account all the packages that are installed. This behaviour is the source of the following dependency conflicts.\n",
      "highway-env 1.6 requires gym>=0.25, but you have gym 0.21.0 which is incompatible.\n"
     ]
    },
    {
     "name": "stdout",
     "output_type": "stream",
     "text": [
      "Requirement already satisfied: tensorboardx in c:\\users\\ckahrs\\anaconda3\\envs\\hw4_env\\lib\\site-packages (2.5.1)\n",
      "Requirement already satisfied: gym in c:\\users\\ckahrs\\anaconda3\\envs\\hw4_env\\lib\\site-packages (0.21.0)\n",
      "Requirement already satisfied: pyvirtualdisplay in c:\\users\\ckahrs\\anaconda3\\envs\\hw4_env\\lib\\site-packages (3.0)\n",
      "Requirement already satisfied: numpy in c:\\users\\ckahrs\\anaconda3\\envs\\hw4_env\\lib\\site-packages (from tensorboardx) (1.21.6)\n",
      "Requirement already satisfied: protobuf<=3.20.1,>=3.8.0 in c:\\users\\ckahrs\\anaconda3\\envs\\hw4_env\\lib\\site-packages (from tensorboardx) (3.19.6)\n",
      "Requirement already satisfied: cloudpickle>=1.2.0 in c:\\users\\ckahrs\\anaconda3\\envs\\hw4_env\\lib\\site-packages (from gym) (2.2.0)\n",
      "Requirement already satisfied: importlib-metadata>=4.8.1 in c:\\users\\ckahrs\\anaconda3\\envs\\hw4_env\\lib\\site-packages (from gym) (4.13.0)\n",
      "Requirement already satisfied: typing-extensions>=3.6.4 in c:\\users\\ckahrs\\anaconda3\\envs\\hw4_env\\lib\\site-packages (from importlib-metadata>=4.8.1->gym) (4.4.0)\n",
      "Requirement already satisfied: zipp>=0.5 in c:\\users\\ckahrs\\anaconda3\\envs\\hw4_env\\lib\\site-packages (from importlib-metadata>=4.8.1->gym) (3.9.0)\n"
     ]
    },
    {
     "name": "stderr",
     "output_type": "stream",
     "text": [
      "The system cannot find the path specified.\n"
     ]
    },
    {
     "ename": "FileNotFoundError",
     "evalue": "[WinError 2] The system cannot find the file specified",
     "output_type": "error",
     "traceback": [
      "\u001b[1;31m---------------------------------------------------------------------------\u001b[0m",
      "\u001b[1;31mFileNotFoundError\u001b[0m                         Traceback (most recent call last)",
      "\u001b[1;32m~\\AppData\\Local\\Temp\\ipykernel_19940\\3122039959.py\u001b[0m in \u001b[0;36m<module>\u001b[1;34m\u001b[0m\n\u001b[0;32m     19\u001b[0m \u001b[0mget_ipython\u001b[0m\u001b[1;33m(\u001b[0m\u001b[1;33m)\u001b[0m\u001b[1;33m.\u001b[0m\u001b[0msystem\u001b[0m\u001b[1;33m(\u001b[0m\u001b[1;34m'git clone https://github.com/eleurent/highway-env.git 2> /dev/null'\u001b[0m\u001b[1;33m)\u001b[0m\u001b[1;33m\u001b[0m\u001b[1;33m\u001b[0m\u001b[0m\n\u001b[0;32m     20\u001b[0m \u001b[0msys\u001b[0m\u001b[1;33m.\u001b[0m\u001b[0mpath\u001b[0m\u001b[1;33m.\u001b[0m\u001b[0minsert\u001b[0m\u001b[1;33m(\u001b[0m\u001b[1;36m0\u001b[0m\u001b[1;33m,\u001b[0m \u001b[1;34m'/content/highway-env/scripts/'\u001b[0m\u001b[1;33m)\u001b[0m\u001b[1;33m\u001b[0m\u001b[1;33m\u001b[0m\u001b[0m\n\u001b[1;32m---> 21\u001b[1;33m \u001b[1;32mfrom\u001b[0m \u001b[0mutils\u001b[0m \u001b[1;32mimport\u001b[0m \u001b[0mrecord_videos\u001b[0m\u001b[1;33m,\u001b[0m \u001b[0mshow_videos\u001b[0m\u001b[1;33m\u001b[0m\u001b[1;33m\u001b[0m\u001b[0m\n\u001b[0m",
      "\u001b[1;32mc:\\git\\highway-env\\scripts\\utils.py\u001b[0m in \u001b[0;36m<module>\u001b[1;34m\u001b[0m\n\u001b[0;32m      6\u001b[0m \u001b[1;33m\u001b[0m\u001b[0m\n\u001b[0;32m      7\u001b[0m \u001b[1;33m\u001b[0m\u001b[0m\n\u001b[1;32m----> 8\u001b[1;33m \u001b[0mdisplay\u001b[0m \u001b[1;33m=\u001b[0m \u001b[0mDisplay\u001b[0m\u001b[1;33m(\u001b[0m\u001b[0mvisible\u001b[0m\u001b[1;33m=\u001b[0m\u001b[1;36m0\u001b[0m\u001b[1;33m,\u001b[0m \u001b[0msize\u001b[0m\u001b[1;33m=\u001b[0m\u001b[1;33m(\u001b[0m\u001b[1;36m1400\u001b[0m\u001b[1;33m,\u001b[0m \u001b[1;36m900\u001b[0m\u001b[1;33m)\u001b[0m\u001b[1;33m)\u001b[0m\u001b[1;33m\u001b[0m\u001b[1;33m\u001b[0m\u001b[0m\n\u001b[0m\u001b[0;32m      9\u001b[0m \u001b[0mdisplay\u001b[0m\u001b[1;33m.\u001b[0m\u001b[0mstart\u001b[0m\u001b[1;33m(\u001b[0m\u001b[1;33m)\u001b[0m\u001b[1;33m\u001b[0m\u001b[1;33m\u001b[0m\u001b[0m\n\u001b[0;32m     10\u001b[0m \u001b[1;33m\u001b[0m\u001b[0m\n",
      "\u001b[1;32mc:\\Users\\ckahrs\\Anaconda3\\envs\\hw4_env\\lib\\site-packages\\pyvirtualdisplay\\display.py\u001b[0m in \u001b[0;36m__init__\u001b[1;34m(self, backend, visible, size, color_depth, bgcolor, use_xauth, retries, extra_args, manage_global_env, **kwargs)\u001b[0m\n\u001b[0;32m     61\u001b[0m             \u001b[0mextra_args\u001b[0m\u001b[1;33m=\u001b[0m\u001b[0mextra_args\u001b[0m\u001b[1;33m,\u001b[0m\u001b[1;33m\u001b[0m\u001b[1;33m\u001b[0m\u001b[0m\n\u001b[0;32m     62\u001b[0m             \u001b[0mmanage_global_env\u001b[0m\u001b[1;33m=\u001b[0m\u001b[0mmanage_global_env\u001b[0m\u001b[1;33m,\u001b[0m\u001b[1;33m\u001b[0m\u001b[1;33m\u001b[0m\u001b[0m\n\u001b[1;32m---> 63\u001b[1;33m             \u001b[1;33m**\u001b[0m\u001b[0mkwargs\u001b[0m\u001b[1;33m\u001b[0m\u001b[1;33m\u001b[0m\u001b[0m\n\u001b[0m\u001b[0;32m     64\u001b[0m         )\n\u001b[0;32m     65\u001b[0m \u001b[1;33m\u001b[0m\u001b[0m\n",
      "\u001b[1;32mc:\\Users\\ckahrs\\Anaconda3\\envs\\hw4_env\\lib\\site-packages\\pyvirtualdisplay\\xvfb.py\u001b[0m in \u001b[0;36m__init__\u001b[1;34m(self, size, color_depth, bgcolor, use_xauth, fbdir, dpi, retries, extra_args, manage_global_env)\u001b[0m\n\u001b[0;32m     48\u001b[0m             \u001b[0mretries\u001b[0m\u001b[1;33m=\u001b[0m\u001b[0mretries\u001b[0m\u001b[1;33m,\u001b[0m\u001b[1;33m\u001b[0m\u001b[1;33m\u001b[0m\u001b[0m\n\u001b[0;32m     49\u001b[0m             \u001b[0mextra_args\u001b[0m\u001b[1;33m=\u001b[0m\u001b[0mextra_args\u001b[0m\u001b[1;33m,\u001b[0m\u001b[1;33m\u001b[0m\u001b[1;33m\u001b[0m\u001b[0m\n\u001b[1;32m---> 50\u001b[1;33m             \u001b[0mmanage_global_env\u001b[0m\u001b[1;33m=\u001b[0m\u001b[0mmanage_global_env\u001b[0m\u001b[1;33m,\u001b[0m\u001b[1;33m\u001b[0m\u001b[1;33m\u001b[0m\u001b[0m\n\u001b[0m\u001b[0;32m     51\u001b[0m         )\n\u001b[0;32m     52\u001b[0m \u001b[1;33m\u001b[0m\u001b[0m\n",
      "\u001b[1;32mc:\\Users\\ckahrs\\Anaconda3\\envs\\hw4_env\\lib\\site-packages\\pyvirtualdisplay\\abstractdisplay.py\u001b[0m in \u001b[0;36m__init__\u001b[1;34m(self, program, use_xauth, retries, extra_args, manage_global_env)\u001b[0m\n\u001b[0;32m     83\u001b[0m         \u001b[0mself\u001b[0m\u001b[1;33m.\u001b[0m\u001b[0m_retries_current\u001b[0m \u001b[1;33m=\u001b[0m \u001b[1;36m0\u001b[0m\u001b[1;33m\u001b[0m\u001b[1;33m\u001b[0m\u001b[0m\n\u001b[0;32m     84\u001b[0m \u001b[1;33m\u001b[0m\u001b[0m\n\u001b[1;32m---> 85\u001b[1;33m         \u001b[0mhelptext\u001b[0m \u001b[1;33m=\u001b[0m \u001b[0mget_helptext\u001b[0m\u001b[1;33m(\u001b[0m\u001b[0mprogram\u001b[0m\u001b[1;33m)\u001b[0m\u001b[1;33m\u001b[0m\u001b[1;33m\u001b[0m\u001b[0m\n\u001b[0m\u001b[0;32m     86\u001b[0m         \u001b[0mself\u001b[0m\u001b[1;33m.\u001b[0m\u001b[0m_has_displayfd\u001b[0m \u001b[1;33m=\u001b[0m \u001b[1;34m\"-displayfd\"\u001b[0m \u001b[1;32min\u001b[0m \u001b[0mhelptext\u001b[0m\u001b[1;33m\u001b[0m\u001b[1;33m\u001b[0m\u001b[0m\n\u001b[0;32m     87\u001b[0m         \u001b[1;32mif\u001b[0m \u001b[1;32mnot\u001b[0m \u001b[0mself\u001b[0m\u001b[1;33m.\u001b[0m\u001b[0m_has_displayfd\u001b[0m\u001b[1;33m:\u001b[0m\u001b[1;33m\u001b[0m\u001b[1;33m\u001b[0m\u001b[0m\n",
      "\u001b[1;32mc:\\Users\\ckahrs\\Anaconda3\\envs\\hw4_env\\lib\\site-packages\\pyvirtualdisplay\\util.py\u001b[0m in \u001b[0;36mget_helptext\u001b[1;34m(program)\u001b[0m\n\u001b[0;32m     15\u001b[0m         \u001b[0mstdout\u001b[0m\u001b[1;33m=\u001b[0m\u001b[0msubprocess\u001b[0m\u001b[1;33m.\u001b[0m\u001b[0mPIPE\u001b[0m\u001b[1;33m,\u001b[0m\u001b[1;33m\u001b[0m\u001b[1;33m\u001b[0m\u001b[0m\n\u001b[0;32m     16\u001b[0m         \u001b[0mstderr\u001b[0m\u001b[1;33m=\u001b[0m\u001b[0msubprocess\u001b[0m\u001b[1;33m.\u001b[0m\u001b[0mPIPE\u001b[0m\u001b[1;33m,\u001b[0m\u001b[1;33m\u001b[0m\u001b[1;33m\u001b[0m\u001b[0m\n\u001b[1;32m---> 17\u001b[1;33m         \u001b[0mshell\u001b[0m\u001b[1;33m=\u001b[0m\u001b[1;32mFalse\u001b[0m\u001b[1;33m,\u001b[0m\u001b[1;33m\u001b[0m\u001b[1;33m\u001b[0m\u001b[0m\n\u001b[0m\u001b[0;32m     18\u001b[0m     )\n\u001b[0;32m     19\u001b[0m     \u001b[0m_\u001b[0m\u001b[1;33m,\u001b[0m \u001b[0mstderr\u001b[0m \u001b[1;33m=\u001b[0m \u001b[0mp\u001b[0m\u001b[1;33m.\u001b[0m\u001b[0mcommunicate\u001b[0m\u001b[1;33m(\u001b[0m\u001b[1;33m)\u001b[0m\u001b[1;33m\u001b[0m\u001b[1;33m\u001b[0m\u001b[0m\n",
      "\u001b[1;32mc:\\Users\\ckahrs\\Anaconda3\\envs\\hw4_env\\lib\\subprocess.py\u001b[0m in \u001b[0;36m__init__\u001b[1;34m(self, args, bufsize, executable, stdin, stdout, stderr, preexec_fn, close_fds, shell, cwd, env, universal_newlines, startupinfo, creationflags, restore_signals, start_new_session, pass_fds, encoding, errors, text)\u001b[0m\n\u001b[0;32m    798\u001b[0m                                 \u001b[0mc2pread\u001b[0m\u001b[1;33m,\u001b[0m \u001b[0mc2pwrite\u001b[0m\u001b[1;33m,\u001b[0m\u001b[1;33m\u001b[0m\u001b[1;33m\u001b[0m\u001b[0m\n\u001b[0;32m    799\u001b[0m                                 \u001b[0merrread\u001b[0m\u001b[1;33m,\u001b[0m \u001b[0merrwrite\u001b[0m\u001b[1;33m,\u001b[0m\u001b[1;33m\u001b[0m\u001b[1;33m\u001b[0m\u001b[0m\n\u001b[1;32m--> 800\u001b[1;33m                                 restore_signals, start_new_session)\n\u001b[0m\u001b[0;32m    801\u001b[0m         \u001b[1;32mexcept\u001b[0m\u001b[1;33m:\u001b[0m\u001b[1;33m\u001b[0m\u001b[1;33m\u001b[0m\u001b[0m\n\u001b[0;32m    802\u001b[0m             \u001b[1;31m# Cleanup if the child failed starting.\u001b[0m\u001b[1;33m\u001b[0m\u001b[1;33m\u001b[0m\u001b[1;33m\u001b[0m\u001b[0m\n",
      "\u001b[1;32mc:\\Users\\ckahrs\\Anaconda3\\envs\\hw4_env\\lib\\subprocess.py\u001b[0m in \u001b[0;36m_execute_child\u001b[1;34m(self, args, executable, preexec_fn, close_fds, pass_fds, cwd, env, startupinfo, creationflags, shell, p2cread, p2cwrite, c2pread, c2pwrite, errread, errwrite, unused_restore_signals, unused_start_new_session)\u001b[0m\n\u001b[0;32m   1205\u001b[0m                                          \u001b[0menv\u001b[0m\u001b[1;33m,\u001b[0m\u001b[1;33m\u001b[0m\u001b[1;33m\u001b[0m\u001b[0m\n\u001b[0;32m   1206\u001b[0m                                          \u001b[0mos\u001b[0m\u001b[1;33m.\u001b[0m\u001b[0mfspath\u001b[0m\u001b[1;33m(\u001b[0m\u001b[0mcwd\u001b[0m\u001b[1;33m)\u001b[0m \u001b[1;32mif\u001b[0m \u001b[0mcwd\u001b[0m \u001b[1;32mis\u001b[0m \u001b[1;32mnot\u001b[0m \u001b[1;32mNone\u001b[0m \u001b[1;32melse\u001b[0m \u001b[1;32mNone\u001b[0m\u001b[1;33m,\u001b[0m\u001b[1;33m\u001b[0m\u001b[1;33m\u001b[0m\u001b[0m\n\u001b[1;32m-> 1207\u001b[1;33m                                          startupinfo)\n\u001b[0m\u001b[0;32m   1208\u001b[0m             \u001b[1;32mfinally\u001b[0m\u001b[1;33m:\u001b[0m\u001b[1;33m\u001b[0m\u001b[1;33m\u001b[0m\u001b[0m\n\u001b[0;32m   1209\u001b[0m                 \u001b[1;31m# Child is launched. Close the parent's copy of those pipe\u001b[0m\u001b[1;33m\u001b[0m\u001b[1;33m\u001b[0m\u001b[1;33m\u001b[0m\u001b[0m\n",
      "\u001b[1;31mFileNotFoundError\u001b[0m: [WinError 2] The system cannot find the file specified"
     ]
    }
   ],
   "source": [
    "# Install environment and agent\n",
    "!pip install highway-env\n",
    "# TODO: we use the bleeding edge version because the current stable version does not support the latest gym>=0.21 versions. Revert back to stable at the next SB3 release.\n",
    "!pip install git+https://github.com/DLR-RM/stable-baselines3\n",
    "\n",
    "# Environment\n",
    "import gym\n",
    "import highway_env\n",
    "\n",
    "# Agent\n",
    "from stable_baselines3 import DQN\n",
    "\n",
    "# Visualization utils\n",
    "%load_ext tensorboard\n",
    "import sys\n",
    "from tqdm.notebook import trange\n",
    "!pip install tensorboardx gym pyvirtualdisplay\n",
    "# !apt-get install -y xvfb python-opengl ffmpeg\n",
    "# !git clone https://github.com/eleurent/highway-env.git 2> /dev/null\n",
    "sys.path.insert(0, '/content/highway-env/scripts/')\n",
    "from utils import record_videos, show_videos"
   ]
  },
  {
   "cell_type": "markdown",
   "metadata": {
    "collapsed": false,
    "id": "_wACJRDjqP-f",
    "pycharm": {
     "name": "#%% md\n"
    }
   },
   "source": [
    "## Training\n",
    "Run tensorboard locally to visualize training."
   ]
  },
  {
   "cell_type": "code",
   "execution_count": null,
   "metadata": {
    "collapsed": false,
    "pycharm": {
     "name": "#%% \n"
    }
   },
   "outputs": [],
   "source": [
    "%tensorboard --logdir \"highway_dqn\""
   ]
  },
  {
   "cell_type": "code",
   "execution_count": null,
   "metadata": {
    "id": "Y5TOvonYqP-g",
    "pycharm": {
     "name": "#%% \n"
    }
   },
   "outputs": [],
   "source": [
    "model = DQN('MlpPolicy', \"highway-fast-v0\",\n",
    "                policy_kwargs=dict(net_arch=[256, 256]),\n",
    "                learning_rate=5e-4,\n",
    "                buffer_size=15000,\n",
    "                learning_starts=200,\n",
    "                batch_size=32,\n",
    "                gamma=0.8,\n",
    "                train_freq=1,\n",
    "                gradient_steps=1,\n",
    "                target_update_interval=50,\n",
    "                exploration_fraction=0.7,\n",
    "                verbose=1,\n",
    "                tensorboard_log=\"highway_dqn/\")\n",
    "model.learn(int(2e4))\n"
   ]
  },
  {
   "cell_type": "markdown",
   "metadata": {
    "id": "n2Bu_Pqop0E7"
   },
   "source": [
    "## Testing\n",
    "\n",
    "Visualize a few episodes"
   ]
  },
  {
   "cell_type": "code",
   "execution_count": null,
   "metadata": {
    "id": "xOcOP7Of18T2",
    "pycharm": {
     "name": "#%%\n"
    }
   },
   "outputs": [],
   "source": [
    "env = gym.make(\"highway-fast-v0\")\n",
    "env = record_videos(env)\n",
    "for episode in trange(3, desc=\"Test episodes\"):\n",
    "    obs, done = env.reset(), False\n",
    "    while not done:\n",
    "        action, _ = model.predict(obs, deterministic=True)\n",
    "        obs, reward, done, info = env.step(int(action))\n",
    "env.close()\n",
    "show_videos()\n"
   ]
  }
 ],
 "metadata": {
  "accelerator": "GPU",
  "colab": {
   "collapsed_sections": [],
   "name": "sb3_highway_dqn.ipynb",
   "provenance": []
  },
  "kernelspec": {
   "display_name": "Python 3.7.13 64-bit ('hw4_env')",
   "language": "python",
   "name": "python3"
  },
  "language_info": {
   "codemirror_mode": {
    "name": "ipython",
    "version": 3
   },
   "file_extension": ".py",
   "mimetype": "text/x-python",
   "name": "python",
   "nbconvert_exporter": "python",
   "pygments_lexer": "ipython3",
   "version": "3.7.13"
  },
  "pycharm": {
   "stem_cell": {
    "cell_type": "raw",
    "metadata": {
     "collapsed": false
    },
    "source": []
   }
  },
  "vscode": {
   "interpreter": {
    "hash": "6241628ca03169c539073f9270cd151db60cb14e39652deee86987017b204276"
   }
  }
 },
 "nbformat": 4,
 "nbformat_minor": 0
}
