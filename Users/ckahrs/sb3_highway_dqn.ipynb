{
  "cells": [
    {
      "cell_type": "markdown",
      "source": [
        "# Highway with SB3's DQN\n",
        "\n",
        "##  Warming up\n",
        "We start with a few useful installs and imports:"
      ],
      "metadata": {
        "id": "5eeje4O8fviH",
        "pycharm": {
          "name": "#%% md\n"
        }
      }
    },
    {
      "cell_type": "code",
      "source": [
        "# Install environment and agent\n",
        "!pip install highway-env\n",
        "# TODO: we use the bleeding edge version because the current stable version does not support the latest gym>=0.21 versions. Revert back to stable at the next SB3 release.\n",
        "!pip install git+https://github.com/DLR-RM/stable-baselines3\n",
        "\n",
        "# Environment\n",
        "import gym\n",
        "import highway_env\n",
        "\n",
        "# Agent\n",
        "from stable_baselines3 import DQN\n",
        "\n",
        "# Visualization utils\n",
        "%load_ext tensorboard\n",
        "import sys\n",
        "from tqdm.notebook import trange\n",
        "!pip install tensorboardx gym pyvirtualdisplay\n",
        "!apt-get install -y xvfb python-opengl ffmpeg\n",
        "!git clone https://github.com/eleurent/highway-env.git 2> /dev/null\n",
        "sys.path.insert(0, '/content/highway-env/scripts/')\n",
        "from utils import record_videos, show_videos"
      ],
      "outputs": [
        {
          "output_type": "stream",
          "name": "stdout",
          "text": "Requirement already satisfied: highway-env in /anaconda/envs/azureml_py38/lib/python3.8/site-packages (1.6)\nRequirement already satisfied: numpy in /anaconda/envs/azureml_py38/lib/python3.8/site-packages (from highway-env) (1.21.6)\nRequirement already satisfied: pygame>=2.0.2 in /anaconda/envs/azureml_py38/lib/python3.8/site-packages (from highway-env) (2.1.2)\nRequirement already satisfied: matplotlib in /anaconda/envs/azureml_py38/lib/python3.8/site-packages (from highway-env) (3.2.1)\nRequirement already satisfied: scipy in /anaconda/envs/azureml_py38/lib/python3.8/site-packages (from highway-env) (1.5.3)\nRequirement already satisfied: gym>=0.25 in /anaconda/envs/azureml_py38/lib/python3.8/site-packages (from highway-env) (0.26.2)\nRequirement already satisfied: pandas in /anaconda/envs/azureml_py38/lib/python3.8/site-packages (from highway-env) (1.1.5)\nRequirement already satisfied: python-dateutil>=2.1 in /anaconda/envs/azureml_py38/lib/python3.8/site-packages (from matplotlib->highway-env) (2.8.2)\nRequirement already satisfied: cycler>=0.10 in /anaconda/envs/azureml_py38/lib/python3.8/site-packages (from matplotlib->highway-env) (0.11.0)\nRequirement already satisfied: pyparsing!=2.0.4,!=2.1.2,!=2.1.6,>=2.0.1 in /anaconda/envs/azureml_py38/lib/python3.8/site-packages (from matplotlib->highway-env) (3.0.9)\nRequirement already satisfied: kiwisolver>=1.0.1 in /anaconda/envs/azureml_py38/lib/python3.8/site-packages (from matplotlib->highway-env) (1.4.4)\nRequirement already satisfied: importlib-metadata>=4.8.0; python_version < \"3.10\" in /anaconda/envs/azureml_py38/lib/python3.8/site-packages (from gym>=0.25->highway-env) (4.13.0)\nRequirement already satisfied: gym-notices>=0.0.4 in /anaconda/envs/azureml_py38/lib/python3.8/site-packages (from gym>=0.25->highway-env) (0.0.8)\nRequirement already satisfied: cloudpickle>=1.2.0 in /anaconda/envs/azureml_py38/lib/python3.8/site-packages (from gym>=0.25->highway-env) (1.6.0)\nRequirement already satisfied: pytz>=2017.2 in /anaconda/envs/azureml_py38/lib/python3.8/site-packages (from pandas->highway-env) (2019.3)\nRequirement already satisfied: six>=1.5 in /anaconda/envs/azureml_py38/lib/python3.8/site-packages (from python-dateutil>=2.1->matplotlib->highway-env) (1.16.0)\nRequirement already satisfied: zipp>=0.5 in /anaconda/envs/azureml_py38/lib/python3.8/site-packages (from importlib-metadata>=4.8.0; python_version < \"3.10\"->gym>=0.25->highway-env) (3.8.1)\nCollecting git+https://github.com/DLR-RM/stable-baselines3\n  Cloning https://github.com/DLR-RM/stable-baselines3 to /tmp/pip-req-build-o5_ji22w\n  Running command git clone -q https://github.com/DLR-RM/stable-baselines3 /tmp/pip-req-build-o5_ji22w\nProcessing /home/azureuser/.cache/pip/wheels/27/6d/b3/a3a6e10704795c9b9000f1ab2dc480dfe7bed42f5972806e73/gym-0.21.0-py3-none-any.whl\nRequirement already satisfied: numpy in /anaconda/envs/azureml_py38/lib/python3.8/site-packages (from stable-baselines3==1.7.0a1) (1.21.6)\nRequirement already satisfied: torch>=1.11 in /anaconda/envs/azureml_py38/lib/python3.8/site-packages (from stable-baselines3==1.7.0a1) (1.12.0)\nRequirement already satisfied: cloudpickle in /anaconda/envs/azureml_py38/lib/python3.8/site-packages (from stable-baselines3==1.7.0a1) (1.6.0)\nRequirement already satisfied: pandas in /anaconda/envs/azureml_py38/lib/python3.8/site-packages (from stable-baselines3==1.7.0a1) (1.1.5)\nRequirement already satisfied: matplotlib in /anaconda/envs/azureml_py38/lib/python3.8/site-packages (from stable-baselines3==1.7.0a1) (3.2.1)\nRequirement already satisfied: importlib-metadata~=4.13 in /anaconda/envs/azureml_py38/lib/python3.8/site-packages (from stable-baselines3==1.7.0a1) (4.13.0)\nRequirement already satisfied: typing-extensions in /anaconda/envs/azureml_py38/lib/python3.8/site-packages (from torch>=1.11->stable-baselines3==1.7.0a1) (4.3.0)\nRequirement already satisfied: python-dateutil>=2.7.3 in /anaconda/envs/azureml_py38/lib/python3.8/site-packages (from pandas->stable-baselines3==1.7.0a1) (2.8.2)\nRequirement already satisfied: pytz>=2017.2 in /anaconda/envs/azureml_py38/lib/python3.8/site-packages (from pandas->stable-baselines3==1.7.0a1) (2019.3)\nRequirement already satisfied: pyparsing!=2.0.4,!=2.1.2,!=2.1.6,>=2.0.1 in /anaconda/envs/azureml_py38/lib/python3.8/site-packages (from matplotlib->stable-baselines3==1.7.0a1) (3.0.9)\nRequirement already satisfied: cycler>=0.10 in /anaconda/envs/azureml_py38/lib/python3.8/site-packages (from matplotlib->stable-baselines3==1.7.0a1) (0.11.0)\nRequirement already satisfied: kiwisolver>=1.0.1 in /anaconda/envs/azureml_py38/lib/python3.8/site-packages (from matplotlib->stable-baselines3==1.7.0a1) (1.4.4)\nRequirement already satisfied: zipp>=0.5 in /anaconda/envs/azureml_py38/lib/python3.8/site-packages (from importlib-metadata~=4.13->stable-baselines3==1.7.0a1) (3.8.1)\nRequirement already satisfied: six>=1.5 in /anaconda/envs/azureml_py38/lib/python3.8/site-packages (from python-dateutil>=2.7.3->pandas->stable-baselines3==1.7.0a1) (1.16.0)\nBuilding wheels for collected packages: stable-baselines3\n  Building wheel for stable-baselines3 (setup.py) ... \u001b[?25l-\b \b\\\b \bdone\n\u001b[?25h  Created wheel for stable-baselines3: filename=stable_baselines3-1.7.0a1-py3-none-any.whl size=167000 sha256=e39919416bbbf4036b64c61188cdb9540a59a89558ddd758a8283f06bb34d182\n  Stored in directory: /tmp/pip-ephem-wheel-cache-s7s2djhn/wheels/90/4e/06/447116d15ce3af2647603a9b5c7c14b5148fd800bba16e38d9\nSuccessfully built stable-baselines3\n\u001b[31mERROR: highway-env 1.6 has requirement gym>=0.25, but you'll have gym 0.21.0 which is incompatible.\u001b[0m\nInstalling collected packages: gym, stable-baselines3\n  Attempting uninstall: gym\n    Found existing installation: gym 0.26.2\n    Uninstalling gym-0.26.2:\n      Successfully uninstalled gym-0.26.2\n  Attempting uninstall: stable-baselines3\n    Found existing installation: stable-baselines3 1.7.0a0\n    Uninstalling stable-baselines3-1.7.0a0:\n      Successfully uninstalled stable-baselines3-1.7.0a0\nSuccessfully installed gym-0.21.0 stable-baselines3-1.7.0a1\nThe tensorboard extension is already loaded. To reload it, use:\n  %reload_ext tensorboard\nRequirement already satisfied: tensorboardx in /anaconda/envs/azureml_py38/lib/python3.8/site-packages (2.5.1)\nRequirement already satisfied: gym in /anaconda/envs/azureml_py38/lib/python3.8/site-packages (0.21.0)\nRequirement already satisfied: pyvirtualdisplay in /anaconda/envs/azureml_py38/lib/python3.8/site-packages (3.0)\nRequirement already satisfied: protobuf<=3.20.1,>=3.8.0 in /anaconda/envs/azureml_py38/lib/python3.8/site-packages (from tensorboardx) (3.20.1)\nRequirement already satisfied: numpy in /anaconda/envs/azureml_py38/lib/python3.8/site-packages (from tensorboardx) (1.21.6)\nRequirement already satisfied: cloudpickle>=1.2.0 in /anaconda/envs/azureml_py38/lib/python3.8/site-packages (from gym) (1.6.0)\nE: Could not open lock file /var/lib/dpkg/lock-frontend - open (13: Permission denied)\nE: Unable to acquire the dpkg frontend lock (/var/lib/dpkg/lock-frontend), are you root?\n"
        }
      ],
      "execution_count": 11,
      "metadata": {
        "id": "bzMSuJEOfviP",
        "pycharm": {
          "is_executing": false,
          "name": "#%%\n"
        }
      }
    },
    {
      "cell_type": "markdown",
      "source": [
        "## Training\n",
        "Run tensorboard locally to visualize training."
      ],
      "metadata": {
        "collapsed": false,
        "id": "_wACJRDjqP-f",
        "pycharm": {
          "name": "#%% md\n"
        }
      }
    },
    {
      "cell_type": "code",
      "source": [
        "%tensorboard --logdir \"highway_dqn2\""
      ],
      "outputs": [
        {
          "output_type": "display_data",
          "data": {
            "text/plain": "Reusing TensorBoard on port 6007 (pid 277340), started 0:00:17 ago. (Use '!kill 277340' to kill it.)"
          },
          "metadata": {}
        },
        {
          "output_type": "display_data",
          "data": {
            "text/plain": "<IPython.core.display.HTML object>",
            "text/html": "\n      <iframe id=\"tensorboard-frame-d176acd1b581f43d\" width=\"100%\" height=\"800\" frameborder=\"0\">\n      </iframe>\n      <script>\n        (function() {\n          const frame = document.getElementById(\"tensorboard-frame-d176acd1b581f43d\");\n          const url = new URL(\"/\", window.location);\n          url.port = 6007;\n          frame.src = url;\n        })();\n      </script>\n  "
          },
          "metadata": {}
        }
      ],
      "execution_count": 20,
      "metadata": {
        "collapsed": false,
        "pycharm": {
          "name": "#%% \n"
        }
      }
    },
    {
      "cell_type": "code",
      "source": [
        "model = DQN('MlpPolicy', \"highway-fast-v0\",\n",
        "                policy_kwargs=dict(net_arch=[256, 256]),\n",
        "                learning_rate=5e-4,\n",
        "                buffer_size=15000,\n",
        "                learning_starts=200,\n",
        "                batch_size=32,\n",
        "                gamma=0.8,\n",
        "                train_freq=1,\n",
        "                gradient_steps=1,\n",
        "                target_update_interval=50,\n",
        "                exploration_fraction=0.7,\n",
        "                verbose=1,\n",
        "                tensorboard_log=\"highway_dqn2/\")\n",
        "model.learn(int(24))\n"
      ],
      "outputs": [
        {
          "output_type": "stream",
          "name": "stdout",
          "text": "Using cpu device\nCreating environment from the given name 'highway-fast-v0'\nWrapping the env with a `Monitor` wrapper\nWrapping the env in a DummyVecEnv.\nLogging to highway_dqn2/DQN_2\n"
        },
        {
          "output_type": "execute_result",
          "execution_count": 21,
          "data": {
            "text/plain": "<stable_baselines3.dqn.dqn.DQN at 0x7f100f2e8880>"
          },
          "metadata": {}
        }
      ],
      "execution_count": 21,
      "metadata": {
        "id": "Y5TOvonYqP-g",
        "pycharm": {
          "name": "#%% \n"
        }
      }
    },
    {
      "cell_type": "markdown",
      "source": [
        "## Testing\n",
        "\n",
        "Visualize a few episodes"
      ],
      "metadata": {
        "id": "n2Bu_Pqop0E7"
      }
    },
    {
      "cell_type": "code",
      "source": [
        "model.save(\"asdf2\")"
      ],
      "outputs": [],
      "execution_count": 22,
      "metadata": {
        "jupyter": {
          "source_hidden": false,
          "outputs_hidden": false
        },
        "nteract": {
          "transient": {
            "deleting": false
          }
        }
      }
    },
    {
      "cell_type": "code",
      "source": [
        "env = gym.make(\"highway-fast-v0\")\n",
        "env = record_videos(env)\n",
        "for episode in trange(3, desc=\"Test episodes\"):\n",
        "    obs, done = env.reset(), False\n",
        "    while not done:\n",
        "        action, _ = model.predict(obs, deterministic=True)\n",
        "        obs, reward, done, info = env.step(int(action))\n",
        "        env.render()\n",
        "env.close()\n",
        "show_videos()\n"
      ],
      "outputs": [
        {
          "output_type": "display_data",
          "data": {
            "text/plain": "Test episodes:   0%|          | 0/3 [00:00<?, ?it/s]",
            "application/vnd.jupyter.widget-view+json": {
              "version_major": 2,
              "version_minor": 0,
              "model_id": "0be95cff26154eaf9dd19d2bf40f56ce"
            }
          },
          "metadata": {}
        },
        {
          "output_type": "stream",
          "name": "stderr",
          "text": "ALSA lib confmisc.c:767:(parse_card) cannot find card '0'\nALSA lib conf.c:4732:(_snd_config_evaluate) function snd_func_card_driver returned error: No such file or directory\nALSA lib confmisc.c:392:(snd_func_concat) error evaluating strings\nALSA lib conf.c:4732:(_snd_config_evaluate) function snd_func_concat returned error: No such file or directory\nALSA lib confmisc.c:1246:(snd_func_refer) error evaluating name\nALSA lib conf.c:4732:(_snd_config_evaluate) function snd_func_refer returned error: No such file or directory\nALSA lib conf.c:5220:(snd_config_expand) Evaluate error: No such file or directory\nALSA lib pcm.c:2642:(snd_pcm_open_noupdate) Unknown PCM default\n"
        },
        {
          "output_type": "display_data",
          "data": {
            "text/plain": "<IPython.core.display.HTML object>",
            "text/html": ""
          },
          "metadata": {}
        }
      ],
      "execution_count": 24,
      "metadata": {
        "id": "xOcOP7Of18T2",
        "pycharm": {
          "name": "#%%\n"
        }
      }
    }
  ],
  "metadata": {
    "accelerator": "GPU",
    "colab": {
      "collapsed_sections": [],
      "name": "sb3_highway_dqn.ipynb",
      "provenance": []
    },
    "kernelspec": {
      "name": "python3",
      "language": "python",
      "display_name": "Python 3 (ipykernel)"
    },
    "language_info": {
      "name": "python",
      "version": "3.8.5",
      "mimetype": "text/x-python",
      "codemirror_mode": {
        "name": "ipython",
        "version": 3
      },
      "pygments_lexer": "ipython3",
      "nbconvert_exporter": "python",
      "file_extension": ".py"
    },
    "pycharm": {
      "stem_cell": {
        "cell_type": "raw",
        "metadata": {
          "collapsed": false
        },
        "source": []
      }
    },
    "vscode": {
      "interpreter": {
        "hash": "6241628ca03169c539073f9270cd151db60cb14e39652deee86987017b204276"
      }
    },
    "kernel_info": {
      "name": "python3"
    },
    "nteract": {
      "version": "nteract-front-end@1.0.0"
    }
  },
  "nbformat": 4,
  "nbformat_minor": 0
}