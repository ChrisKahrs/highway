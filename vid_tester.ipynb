{
 "cells": [
  {
   "cell_type": "markdown",
   "metadata": {},
   "source": [
    "Do this in the terminal\n",
    "* conda install -n ghcs_env ipykernel --update-deps --force-reinstall\n",
    "\n"
   ]
  },
  {
   "cell_type": "code",
   "execution_count": 1,
   "metadata": {},
   "outputs": [
    {
     "name": "stdout",
     "output_type": "stream",
     "text": [
      "Requirement already satisfied: pygame in /usr/local/python/3.10.4/lib/python3.10/site-packages (2.1.0)\n",
      "Note: you may need to restart the kernel to use updated packages.\n",
      "Requirement already satisfied: opencv-python in /usr/local/python/3.10.4/lib/python3.10/site-packages (4.6.0.66)\n",
      "Requirement already satisfied: numpy>=1.21.2 in /home/codespace/.local/lib/python3.10/site-packages (from opencv-python) (1.23.3)\n",
      "Note: you may need to restart the kernel to use updated packages.\n",
      "Requirement already satisfied: opencv-contrib-python in /usr/local/python/3.10.4/lib/python3.10/site-packages (4.6.0.66)\n",
      "Requirement already satisfied: numpy>=1.17.3 in /home/codespace/.local/lib/python3.10/site-packages (from opencv-contrib-python) (1.23.3)\n",
      "Note: you may need to restart the kernel to use updated packages.\n",
      "Requirement already satisfied: imutils in /usr/local/python/3.10.4/lib/python3.10/site-packages (0.5.4)\n",
      "Note: you may need to restart the kernel to use updated packages.\n",
      "Requirement already satisfied: matplotlib in /home/codespace/.local/lib/python3.10/site-packages (3.6.0)\n",
      "Requirement already satisfied: cycler>=0.10 in /home/codespace/.local/lib/python3.10/site-packages (from matplotlib) (0.11.0)\n",
      "Requirement already satisfied: numpy>=1.19 in /home/codespace/.local/lib/python3.10/site-packages (from matplotlib) (1.23.3)\n",
      "Requirement already satisfied: pyparsing>=2.2.1 in /home/codespace/.local/lib/python3.10/site-packages (from matplotlib) (3.0.9)\n",
      "Requirement already satisfied: pillow>=6.2.0 in /home/codespace/.local/lib/python3.10/site-packages (from matplotlib) (9.2.0)\n",
      "Requirement already satisfied: kiwisolver>=1.0.1 in /home/codespace/.local/lib/python3.10/site-packages (from matplotlib) (1.4.4)\n",
      "Requirement already satisfied: packaging>=20.0 in /home/codespace/.local/lib/python3.10/site-packages (from matplotlib) (21.3)\n",
      "Requirement already satisfied: contourpy>=1.0.1 in /home/codespace/.local/lib/python3.10/site-packages (from matplotlib) (1.0.5)\n",
      "Requirement already satisfied: python-dateutil>=2.7 in /home/codespace/.local/lib/python3.10/site-packages (from matplotlib) (2.8.2)\n",
      "Requirement already satisfied: fonttools>=4.22.0 in /home/codespace/.local/lib/python3.10/site-packages (from matplotlib) (4.37.4)\n",
      "Requirement already satisfied: six>=1.5 in /home/codespace/.local/lib/python3.10/site-packages (from python-dateutil>=2.7->matplotlib) (1.16.0)\n",
      "Note: you may need to restart the kernel to use updated packages.\n",
      "Requirement already satisfied: numpy in /home/codespace/.local/lib/python3.10/site-packages (1.23.3)\n",
      "Note: you may need to restart the kernel to use updated packages.\n",
      "Requirement already satisfied: scipy in /home/codespace/.local/lib/python3.10/site-packages (1.9.1)\n",
      "Requirement already satisfied: numpy<1.25.0,>=1.18.5 in /home/codespace/.local/lib/python3.10/site-packages (from scipy) (1.23.3)\n",
      "Note: you may need to restart the kernel to use updated packages.\n",
      "Requirement already satisfied: gymnasium in /usr/local/python/3.10.4/lib/python3.10/site-packages (0.26.2)\n",
      "Requirement already satisfied: gymnasium-notices>=0.0.1 in /usr/local/python/3.10.4/lib/python3.10/site-packages (from gymnasium) (0.0.1)\n",
      "Requirement already satisfied: numpy>=1.18.0 in /home/codespace/.local/lib/python3.10/site-packages (from gymnasium) (1.23.3)\n",
      "Requirement already satisfied: cloudpickle>=1.2.0 in /usr/local/python/3.10.4/lib/python3.10/site-packages (from gymnasium) (2.2.0)\n",
      "Note: you may need to restart the kernel to use updated packages.\n"
     ]
    }
   ],
   "source": [
    "%pip install pygame\n",
    "%pip install opencv-python\n",
    "%pip install opencv-contrib-python\n",
    "%pip install imutils\n",
    "%pip install matplotlib\n",
    "%pip install numpy\n",
    "%pip install scipy\n",
    "%pip install gymnasium\n"
   ]
  },
  {
   "cell_type": "code",
   "execution_count": 2,
   "metadata": {},
   "outputs": [],
   "source": [
    "!apt-get install -y xvfb python-opengl > /dev/null 2>&1\n"
   ]
  },
  {
   "cell_type": "code",
   "execution_count": 3,
   "metadata": {},
   "outputs": [
    {
     "name": "stdout",
     "output_type": "stream",
     "text": [
      "Note: you may need to restart the kernel to use updated packages.\n"
     ]
    }
   ],
   "source": [
    "%pip install gym pyvirtualdisplay > /dev/null 2>&1\n"
   ]
  },
  {
   "cell_type": "code",
   "execution_count": 4,
   "metadata": {},
   "outputs": [
    {
     "name": "stdout",
     "output_type": "stream",
     "text": [
      "Collecting git+https://github.com/eleurent/highway-env\n",
      "  Cloning https://github.com/eleurent/highway-env to /tmp/pip-req-build-fy9elpg0\n",
      "  Running command git clone --filter=blob:none --quiet https://github.com/eleurent/highway-env /tmp/pip-req-build-fy9elpg0\n",
      "  Resolved https://github.com/eleurent/highway-env to commit 475a4c2e727271eb0102a30fd281114c953b5d4a\n",
      "  Installing build dependencies ... \u001b[?25ldone\n",
      "\u001b[?25h  Getting requirements to build wheel ... \u001b[?25ldone\n",
      "\u001b[?25h  Installing backend dependencies ... \u001b[?25ldone\n",
      "\u001b[?25h  Preparing metadata (pyproject.toml) ... \u001b[?25ldone\n",
      "\u001b[?25hRequirement already satisfied: matplotlib in /home/codespace/.local/lib/python3.10/site-packages (from highway-env==1.6) (3.6.0)\n",
      "Requirement already satisfied: scipy in /home/codespace/.local/lib/python3.10/site-packages (from highway-env==1.6) (1.9.1)\n",
      "Requirement already satisfied: pygame>=2.0.2 in /usr/local/python/3.10.4/lib/python3.10/site-packages (from highway-env==1.6) (2.1.0)\n",
      "Requirement already satisfied: pandas in /home/codespace/.local/lib/python3.10/site-packages (from highway-env==1.6) (1.5.0)\n",
      "Requirement already satisfied: numpy in /home/codespace/.local/lib/python3.10/site-packages (from highway-env==1.6) (1.23.3)\n",
      "Requirement already satisfied: gym>=0.26 in /usr/local/python/3.10.4/lib/python3.10/site-packages (from highway-env==1.6) (0.26.2)\n",
      "Requirement already satisfied: cloudpickle>=1.2.0 in /usr/local/python/3.10.4/lib/python3.10/site-packages (from gym>=0.26->highway-env==1.6) (2.2.0)\n",
      "Requirement already satisfied: gym-notices>=0.0.4 in /usr/local/python/3.10.4/lib/python3.10/site-packages (from gym>=0.26->highway-env==1.6) (0.0.8)\n",
      "Requirement already satisfied: fonttools>=4.22.0 in /home/codespace/.local/lib/python3.10/site-packages (from matplotlib->highway-env==1.6) (4.37.4)\n",
      "Requirement already satisfied: contourpy>=1.0.1 in /home/codespace/.local/lib/python3.10/site-packages (from matplotlib->highway-env==1.6) (1.0.5)\n",
      "Requirement already satisfied: cycler>=0.10 in /home/codespace/.local/lib/python3.10/site-packages (from matplotlib->highway-env==1.6) (0.11.0)\n",
      "Requirement already satisfied: pillow>=6.2.0 in /home/codespace/.local/lib/python3.10/site-packages (from matplotlib->highway-env==1.6) (9.2.0)\n",
      "Requirement already satisfied: python-dateutil>=2.7 in /home/codespace/.local/lib/python3.10/site-packages (from matplotlib->highway-env==1.6) (2.8.2)\n",
      "Requirement already satisfied: packaging>=20.0 in /home/codespace/.local/lib/python3.10/site-packages (from matplotlib->highway-env==1.6) (21.3)\n",
      "Requirement already satisfied: pyparsing>=2.2.1 in /home/codespace/.local/lib/python3.10/site-packages (from matplotlib->highway-env==1.6) (3.0.9)\n",
      "Requirement already satisfied: kiwisolver>=1.0.1 in /home/codespace/.local/lib/python3.10/site-packages (from matplotlib->highway-env==1.6) (1.4.4)\n",
      "Requirement already satisfied: pytz>=2020.1 in /home/codespace/.local/lib/python3.10/site-packages (from pandas->highway-env==1.6) (2022.4)\n",
      "Requirement already satisfied: six>=1.5 in /home/codespace/.local/lib/python3.10/site-packages (from python-dateutil>=2.7->matplotlib->highway-env==1.6) (1.16.0)\n",
      "Note: you may need to restart the kernel to use updated packages.\n"
     ]
    }
   ],
   "source": [
    "%pip install git+https://github.com/eleurent/highway-env"
   ]
  },
  {
   "cell_type": "code",
   "execution_count": 5,
   "metadata": {},
   "outputs": [
    {
     "name": "stdout",
     "output_type": "stream",
     "text": [
      "Requirement already satisfied: pip in /usr/local/python/3.10.4/lib/python3.10/site-packages (22.3)\n",
      "Note: you may need to restart the kernel to use updated packages.\n"
     ]
    }
   ],
   "source": [
    "%pip install --upgrade pip"
   ]
  },
  {
   "cell_type": "code",
   "execution_count": 6,
   "metadata": {},
   "outputs": [],
   "source": [
    "import gym\n",
    "import numpy as np\n",
    "import matplotlib.pyplot as plt\n",
    "from IPython import display as ipythondisplay"
   ]
  },
  {
   "cell_type": "code",
   "execution_count": 7,
   "metadata": {},
   "outputs": [
    {
     "data": {
      "text/plain": [
       "<pyvirtualdisplay.display.Display at 0x7f4c546e4c70>"
      ]
     },
     "execution_count": 7,
     "metadata": {},
     "output_type": "execute_result"
    }
   ],
   "source": [
    "from pyvirtualdisplay import Display\n",
    "display = Display(visible=0, size=(400, 300))\n",
    "display.start()"
   ]
  },
  {
   "cell_type": "code",
   "execution_count": 8,
   "metadata": {},
   "outputs": [
    {
     "name": "stderr",
     "output_type": "stream",
     "text": [
      "/home/codespace/.python/current/lib/python3.10/site-packages/gym/utils/passive_env_checker.py:31: UserWarning: \u001b[33mWARN: A Box observation space has an unconventional shape (neither an image, nor a 1D vector). We recommend flattening the observation to have only a 1D vector or use a custom policy to properly process the data. Actual observation shape: (5, 5)\u001b[0m\n",
      "  logger.warn(\n",
      "/home/codespace/.python/current/lib/python3.10/site-packages/gym/utils/passive_env_checker.py:289: UserWarning: \u001b[33mWARN: No render fps was declared in the environment (env.metadata['render_fps'] is None or not defined), rendering may occur at inconsistent fps.\u001b[0m\n",
      "  logger.warn(\n"
     ]
    },
    {
     "data": {
      "image/png": "[encoded data removed]",
      "text/plain": [
       "<Figure size 640x480 with 1 Axes>"
      ]
     },
     "metadata": {},
     "output_type": "display_data"
    },
    {
     "data": {
      "image/png": "[encoded data removed]",
      "text/plain": [
       "<Figure size 640x480 with 1 Axes>"
      ]
     },
     "metadata": {},
     "output_type": "display_data"
    },
    {
     "data": {
      "image/png": "[encoded data removed]",
      "text/plain": [
       "<Figure size 640x480 with 1 Axes>"
      ]
     },
     "metadata": {},
     "output_type": "display_data"
    },
    {
     "data": {
      "image/png": "[encoded data removed]",
      "text/plain": [
       "<Figure size 640x480 with 1 Axes>"
      ]
     },
     "metadata": {},
     "output_type": "display_data"
    },
    {
     "data": {
      "image/png": "[encoded data removed]",
      "text/plain": [
       "<Figure size 640x480 with 1 Axes>"
      ]
     },
     "metadata": {},
     "output_type": "display_data"
    },
    {
     "name": "stdout",
     "output_type": "stream",
     "text": [
      "count:  5\n"
     ]
    },
    {
     "data": {
      "image/png": "[encoded data removed]",
      "text/plain": [
       "<Figure size 640x480 with 1 Axes>"
      ]
     },
     "metadata": {},
     "output_type": "display_data"
    }
   ],
   "source": [
    "import pygame\n",
    "import highway_env\n",
    "\n",
    "env = gym.make(\"highway-fast-v0\")\n",
    "env.reset()\n",
    "prev_screen = env.render(mode='rgb_array')\n",
    "plt.imshow(prev_screen)\n",
    "screens = []\n",
    "count = 0\n",
    "\n",
    "for i in range(50):\n",
    "  action = env.action_space.sample()\n",
    "  obs, reward, done, truncated, info = env.step(action)\n",
    "  screen = env.render(mode='rgb_array')\n",
    "  screens.append(screen)\n",
    "  \n",
    "  plt.imshow(screen)\n",
    "  # ipythondisplay.clear_output(wait=True)\n",
    "  ipythondisplay.display(plt.gcf())\n",
    "  count += 1\n",
    "  \n",
    "\n",
    "  if done:\n",
    "    break\n",
    "    \n",
    "# ipythondisplay.clear_output(wait=True)\n",
    "print(\"count: \", count)\n",
    "env.close()"
   ]
  },
  {
   "cell_type": "code",
   "execution_count": 9,
   "metadata": {},
   "outputs": [
    {
     "data": {
      "text/plain": [
       "<pyvirtualdisplay.display.Display at 0x7f4c546e4c70>"
      ]
     },
     "execution_count": 9,
     "metadata": {},
     "output_type": "execute_result"
    }
   ],
   "source": [
    "display.stop()"
   ]
  },
  {
   "cell_type": "code",
   "execution_count": 10,
   "metadata": {},
   "outputs": [
    {
     "name": "stdout",
     "output_type": "stream",
     "text": [
      "MoviePy - Building file test9.gif with imageio.\n"
     ]
    },
    {
     "name": "stderr",
     "output_type": "stream",
     "text": [
      "                                                   \r"
     ]
    }
   ],
   "source": [
    "from moviepy.editor import ImageSequenceClip\n",
    "clip = ImageSequenceClip(list(screens), fps=5)\n",
    "clip.write_gif('test9.gif', fps=15)"
   ]
  },
  {
   "cell_type": "code",
   "execution_count": 11,
   "metadata": {},
   "outputs": [
    {
     "name": "stdout",
     "output_type": "stream",
     "text": [
      "Moviepy - Building video flow9.mp4.\n",
      "Moviepy - Writing video flow9.mp4\n",
      "\n"
     ]
    },
    {
     "name": "stderr",
     "output_type": "stream",
     "text": [
      "                                                  \r"
     ]
    },
    {
     "name": "stdout",
     "output_type": "stream",
     "text": [
      "Moviepy - Done !\n",
      "Moviepy - video ready flow9.mp4\n",
      "Moviepy - Building video __temp__.mp4.\n",
      "Moviepy - Writing video __temp__.mp4\n",
      "\n"
     ]
    },
    {
     "name": "stderr",
     "output_type": "stream",
     "text": [
      "                                                  \r"
     ]
    },
    {
     "name": "stdout",
     "output_type": "stream",
     "text": [
      "Moviepy - Done !\n",
      "Moviepy - video ready __temp__.mp4\n"
     ]
    },
    {
     "data": {
      "text/html": [
       "<div align=middle><video verbose='1' loop='True' autoplay='True'src='data:video/mp4;base64,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' controls>Sorry, seems like your browser doesn't support HTML5 audio/video</video></div>"
      ],
      "text/plain": [
       "<moviepy.video.io.html_tools.HTML2 object>"
      ]
     },
     "execution_count": 11,
     "metadata": {},
     "output_type": "execute_result"
    }
   ],
   "source": [
    "import numpy as np\n",
    "from PIL import Image\n",
    " \n",
    "# importing movie py libraries\n",
    "from moviepy.editor import VideoClip\n",
    "from moviepy.editor import *\n",
    "\n",
    "# method to get frames\n",
    "def make_frame(t):\n",
    "    return screens[int(t)].astype(int)\n",
    " \n",
    "# creating Video Clip\n",
    "clip = VideoClip(make_frame, duration = 2)\n",
    "clip.set_duration(2)\n",
    "\n",
    "clip.write_videofile(\"flow9.mp4\", fps=2)\n",
    "# displaying clip\n",
    "clip .ipython_display(verbose=1, fps=1, loop = True, autoplay = True)"
   ]
  },
  {
   "cell_type": "code",
   "execution_count": 12,
   "metadata": {},
   "outputs": [
    {
     "data": {
      "text/plain": [
       "5"
      ]
     },
     "execution_count": 12,
     "metadata": {},
     "output_type": "execute_result"
    }
   ],
   "source": [
    "len(screens)"
   ]
  },
  {
   "cell_type": "code",
   "execution_count": 13,
   "metadata": {},
   "outputs": [
    {
     "name": "stdout",
     "output_type": "stream",
     "text": [
      "/home/codespace/.python/current/bin/python\n",
      "/home/codespace/.local/bin/jupyter\n"
     ]
    }
   ],
   "source": [
    "!which python\n",
    "!which jupyter"
   ]
  },
  {
   "cell_type": "code",
   "execution_count": 14,
   "metadata": {},
   "outputs": [
    {
     "name": "stdout",
     "output_type": "stream",
     "text": [
      "Name: highway-env\n",
      "Version: 1.6\n",
      "Summary: An environment for simulated highway driving tasks.\n",
      "Home-page: https://github.com/eleurent/highway-env\n",
      "Author: Edouard Leurent\n",
      "Author-email: eleurent@gmail.com\n",
      "License: MIT\n",
      "Location: /home/codespace/.local/lib/python3.10/site-packages\n",
      "Requires: gym, matplotlib, numpy, pandas, pygame, scipy\n",
      "Required-by: \n"
     ]
    }
   ],
   "source": [
    "!pip show highway-env\n",
    "import highway_env\n"
   ]
  },
  {
   "cell_type": "code",
   "execution_count": 15,
   "metadata": {},
   "outputs": [
    {
     "name": "stdout",
     "output_type": "stream",
     "text": [
      "Requirement already satisfied: highway-env in /home/codespace/.local/lib/python3.10/site-packages (1.6)\n",
      "Requirement already satisfied: pygame>=2.0.2 in /usr/local/python/3.10.4/lib/python3.10/site-packages (from highway-env) (2.1.0)\n",
      "Requirement already satisfied: numpy in /home/codespace/.local/lib/python3.10/site-packages (from highway-env) (1.23.3)\n",
      "Requirement already satisfied: gym>=0.26 in /usr/local/python/3.10.4/lib/python3.10/site-packages (from highway-env) (0.26.2)\n",
      "Requirement already satisfied: matplotlib in /home/codespace/.local/lib/python3.10/site-packages (from highway-env) (3.6.0)\n",
      "Requirement already satisfied: scipy in /home/codespace/.local/lib/python3.10/site-packages (from highway-env) (1.9.1)\n",
      "Requirement already satisfied: pandas in /home/codespace/.local/lib/python3.10/site-packages (from highway-env) (1.5.0)\n",
      "Requirement already satisfied: cloudpickle>=1.2.0 in /usr/local/python/3.10.4/lib/python3.10/site-packages (from gym>=0.26->highway-env) (2.2.0)\n",
      "Requirement already satisfied: gym-notices>=0.0.4 in /usr/local/python/3.10.4/lib/python3.10/site-packages (from gym>=0.26->highway-env) (0.0.8)\n",
      "Requirement already satisfied: fonttools>=4.22.0 in /home/codespace/.local/lib/python3.10/site-packages (from matplotlib->highway-env) (4.37.4)\n",
      "Requirement already satisfied: kiwisolver>=1.0.1 in /home/codespace/.local/lib/python3.10/site-packages (from matplotlib->highway-env) (1.4.4)\n",
      "Requirement already satisfied: contourpy>=1.0.1 in /home/codespace/.local/lib/python3.10/site-packages (from matplotlib->highway-env) (1.0.5)\n",
      "Requirement already satisfied: pillow>=6.2.0 in /home/codespace/.local/lib/python3.10/site-packages (from matplotlib->highway-env) (9.2.0)\n",
      "Requirement already satisfied: python-dateutil>=2.7 in /home/codespace/.local/lib/python3.10/site-packages (from matplotlib->highway-env) (2.8.2)\n",
      "Requirement already satisfied: pyparsing>=2.2.1 in /home/codespace/.local/lib/python3.10/site-packages (from matplotlib->highway-env) (3.0.9)\n",
      "Requirement already satisfied: cycler>=0.10 in /home/codespace/.local/lib/python3.10/site-packages (from matplotlib->highway-env) (0.11.0)\n",
      "Requirement already satisfied: packaging>=20.0 in /home/codespace/.local/lib/python3.10/site-packages (from matplotlib->highway-env) (21.3)\n",
      "Requirement already satisfied: pytz>=2020.1 in /home/codespace/.local/lib/python3.10/site-packages (from pandas->highway-env) (2022.4)\n",
      "Requirement already satisfied: six>=1.5 in /home/codespace/.local/lib/python3.10/site-packages (from python-dateutil>=2.7->matplotlib->highway-env) (1.16.0)\n",
      "Note: you may need to restart the kernel to use updated packages.\n"
     ]
    }
   ],
   "source": [
    "%pip install highway-env"
   ]
  },
  {
   "cell_type": "code",
   "execution_count": 3,
   "metadata": {},
   "outputs": [
    {
     "name": "stdout",
     "output_type": "stream",
     "text": [
      "{'action': {'type': 'DiscreteMetaAction'},\n",
      " 'centering_position': [0.3, 0.5],\n",
      " 'collision_reward': -1,\n",
      " 'controlled_vehicles': 1,\n",
      " 'duration': 40,\n",
      " 'ego_spacing': 2,\n",
      " 'high_speed_reward': 0.4,\n",
      " 'initial_lane_id': None,\n",
      " 'lane_change_reward': 0,\n",
      " 'lanes_count': 4,\n",
      " 'manual_control': False,\n",
      " 'normalize_reward': True,\n",
      " 'observation': {'type': 'OccupancyGrid'},\n",
      " 'offroad_terminal': False,\n",
      " 'offscreen_rendering': False,\n",
      " 'other_vehicles_type': 'highway_env.vehicle.behavior.IDMVehicle',\n",
      " 'policy_frequency': 1,\n",
      " 'real_time_rendering': False,\n",
      " 'render_agent': True,\n",
      " 'reward_speed_range': [20, 30],\n",
      " 'right_lane_reward': 0.1,\n",
      " 'scaling': 5.5,\n",
      " 'screen_height': 150,\n",
      " 'screen_width': 600,\n",
      " 'show_trajectories': False,\n",
      " 'simulation_frequency': 15,\n",
      " 'vehicles_count': 50,\n",
      " 'vehicles_density': 1}\n"
     ]
    },
    {
     "name": "stderr",
     "output_type": "stream",
     "text": [
      "/home/codespace/.python/current/lib/python3.10/site-packages/gym/utils/passive_env_checker.py:31: UserWarning: \u001b[33mWARN: A Box observation space has an unconventional shape (neither an image, nor a 1D vector). We recommend flattening the observation to have only a 1D vector or use a custom policy to properly process the data. Actual observation shape: (5, 5)\u001b[0m\n",
      "  logger.warn(\n"
     ]
    }
   ],
   "source": [
    "import pprint\n",
    "import gym\n",
    "import highway_env\n",
    "\n",
    "env = gym.make(\"highway-v0\")\n",
    "env.configure({\"observation\": {\"type\": \"OccupancyGrid\"}})\n",
    "pprint.pprint(env.config)"
   ]
  }
 ],
 "metadata": {
  "kernelspec": {
   "display_name": "Python 3.10.4 64-bit",
   "language": "python",
   "name": "python3"
  },
  "language_info": {
   "codemirror_mode": {
    "name": "ipython",
    "version": 3
   },
   "file_extension": ".py",
   "mimetype": "text/x-python",
   "name": "python",
   "nbconvert_exporter": "python",
   "pygments_lexer": "ipython3",
   "version": "3.10.4"
  },
  "orig_nbformat": 4,
  "vscode": {
   "interpreter": {
    "hash": "3ad933181bd8a04b432d3370b9dc3b0662ad032c4dfaa4e4f1596c548f763858"
   }
  }
 },
 "nbformat": 4,
 "nbformat_minor": 2
}
