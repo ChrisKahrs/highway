{
 "cells": [
  {
   "cell_type": "code",
   "execution_count": 4,
   "metadata": {},
   "outputs": [],
   "source": [
    "import gym\n",
    "from gym.utils.play import play\n",
    "\n",
    "# env = gym.make(\"LunarLander-v2\", render_mode='rgb_array', gravity=-5.0)\n",
    "env = gym.wrappers.RecordEpisodeStatistics(env)\n",
    "# kta = {(100,):1,(119,):2, (97,):3}\n",
    "# play(env, zoom=2, keys_to_action=kta)\n",
    "\n",
    "env = gym.make(\"CarRacing-v2\", render_mode='rgb_array', continuous=False)\n",
    "env = gym.wrappers.RecordEpisodeStatistics(env)\n",
    "\n",
    "# kta = {(100,):1,(97,):2, (119,):3, (115,):4}\n",
    "play(env, keys_to_action=kta)"
   ]
  },
  {
   "cell_type": "code",
   "execution_count": 2,
   "metadata": {},
   "outputs": [
    {
     "name": "stdout",
     "output_type": "stream",
     "text": [
      "Requirement already satisfied: box2d in c:\\python310\\lib\\site-packages (2.3.2)\n",
      "Collecting box2d-kengz\n",
      "  Downloading Box2D-kengz-2.3.3.tar.gz (425 kB)\n",
      "     -------------------------------------- 425.4/425.4 KB 3.8 MB/s eta 0:00:00\n",
      "  Preparing metadata (setup.py): started\n",
      "  Preparing metadata (setup.py): finished with status 'done'\n",
      "Building wheels for collected packages: box2d-kengz\n",
      "  Building wheel for box2d-kengz (setup.py): started\n",
      "  Building wheel for box2d-kengz (setup.py): finished with status 'done'\n",
      "  Created wheel for box2d-kengz: filename=Box2D_kengz-2.3.3-cp310-cp310-win_amd64.whl size=410410 sha256=71e517e9abef6a5d105485aa6eeafcb8779c4d31544a5d587c95e3baf3fd912a\n",
      "  Stored in directory: c:\\users\\ckahrs\\appdata\\local\\pip\\cache\\wheels\\ab\\a3\\5f\\6396406aa0163da86c2a8d28304a120b55cfa98363654d853b\n",
      "Successfully built box2d-kengz\n",
      "Installing collected packages: box2d-kengz\n",
      "Note: you may need to restart the kernel to use updated packages.\n"
     ]
    },
    {
     "name": "stderr",
     "output_type": "stream",
     "text": [
      "WARNING: Ignoring invalid distribution -umpy (c:\\python310\\lib\\site-packages)\n",
      "WARNING: Ignoring invalid distribution -ip (c:\\python310\\lib\\site-packages)\n",
      "WARNING: Ignoring invalid distribution -umpy (c:\\python310\\lib\\site-packages)\n",
      "WARNING: Ignoring invalid distribution -ip (c:\\python310\\lib\\site-packages)\n",
      "ERROR: Could not install packages due to an OSError: [WinError 5] Access is denied: 'c:\\\\Python310\\\\Lib\\\\site-packages\\\\Box2D\\\\_Box2D.cp310-win_amd64.pyd'\n",
      "Consider using the `--user` option or check the permissions.\n",
      "\n",
      "WARNING: Ignoring invalid distribution -umpy (c:\\python310\\lib\\site-packages)\n",
      "WARNING: Ignoring invalid distribution -ip (c:\\python310\\lib\\site-packages)\n",
      "WARNING: Ignoring invalid distribution -umpy (c:\\python310\\lib\\site-packages)\n",
      "WARNING: Ignoring invalid distribution -ip (c:\\python310\\lib\\site-packages)\n",
      "WARNING: You are using pip version 22.0.4; however, version 22.3 is available.\n",
      "You should consider upgrading via the 'c:\\Python310\\python.exe -m pip install --upgrade pip' command.\n"
     ]
    }
   ],
   "source": [
    "%pip install box2d box2d-kengz"
   ]
  },
  {
   "cell_type": "code",
   "execution_count": 3,
   "metadata": {},
   "outputs": [],
   "source": [
    "# !pip install gym[utils]\n",
    "# !pip install matplotlib\n",
    "\n",
    "import gym\n",
    "import numpy as np\n",
    "from gym.utils.play import play, PlayPlot\n",
    "\n",
    "def callback(obs_t, obs_tp1, action, rew, terminated, truncated, info):\n",
    "       return [rew,]\n",
    "   \n",
    "plotter = PlayPlot(callback, 150, [\"reward\"])\n",
    "\n",
    "play(gym.make(\"CarRacing-v2\", render_mode=\"rgb_array\"), callback=plotter.callback, \n",
    "              keys_to_action={\n",
    "                                               \"w\": np.array([0, 0.7, 0]),\n",
    "                                               \"a\": np.array([-1, 0, 0]),\n",
    "                                               \"s\": np.array([0, 0, 1]),\n",
    "                                               \"d\": np.array([1, 0, 0]),\n",
    "                                               \"wa\": np.array([-1, 0.7, 0]),\n",
    "                                               \"dw\": np.array([1, 0.7, 0]),\n",
    "                                               \"ds\": np.array([1, 0, 1]),\n",
    "                                               \"as\": np.array([-1, 0, 1]),\n",
    "                                              }, noop=np.array([0,0,0]))"
   ]
  },
  {
   "cell_type": "code",
   "execution_count": 5,
   "metadata": {},
   "outputs": [
    {
     "name": "stdout",
     "output_type": "stream",
     "text": [
      "Requirement already satisfied: gym[other] in c:\\python310\\lib\\site-packages (0.26.2)\n",
      "Requirement already satisfied: cloudpickle>=1.2.0 in c:\\python310\\lib\\site-packages (from gym[other]) (2.1.0)\n",
      "Requirement already satisfied: gym-notices>=0.0.4 in c:\\python310\\lib\\site-packages (from gym[other]) (0.0.7)\n",
      "Requirement already satisfied: numpy>=1.18.0 in c:\\python310\\lib\\site-packages (from gym[other]) (1.21.6)\n",
      "Requirement already satisfied: lz4>=3.1.0 in c:\\python310\\lib\\site-packages (from gym[other]) (4.0.2)\n",
      "Requirement already satisfied: moviepy>=1.0.0 in c:\\python310\\lib\\site-packages (from gym[other]) (1.0.3)\n",
      "Requirement already satisfied: opencv-python>=3.0 in c:\\python310\\lib\\site-packages (from gym[other]) (4.6.0.66)\n",
      "Requirement already satisfied: matplotlib>=3.0 in c:\\python310\\lib\\site-packages (from gym[other]) (3.5.2)\n",
      "Requirement already satisfied: packaging>=20.0 in c:\\users\\ckahrs\\appdata\\roaming\\python\\python310\\site-packages (from matplotlib>=3.0->gym[other]) (21.3)\n",
      "Requirement already satisfied: pyparsing>=2.2.1 in c:\\users\\ckahrs\\appdata\\roaming\\python\\python310\\site-packages (from matplotlib>=3.0->gym[other]) (3.0.9)\n",
      "Requirement already satisfied: fonttools>=4.22.0 in c:\\python310\\lib\\site-packages (from matplotlib>=3.0->gym[other]) (4.34.4)\n",
      "Requirement already satisfied: cycler>=0.10 in c:\\python310\\lib\\site-packages (from matplotlib>=3.0->gym[other]) (0.11.0)\n",
      "Requirement already satisfied: kiwisolver>=1.0.1 in c:\\python310\\lib\\site-packages (from matplotlib>=3.0->gym[other]) (1.4.4)\n",
      "Requirement already satisfied: python-dateutil>=2.7 in c:\\users\\ckahrs\\appdata\\roaming\\python\\python310\\site-packages (from matplotlib>=3.0->gym[other]) (2.8.2)\n",
      "Requirement already satisfied: pillow>=6.2.0 in c:\\python310\\lib\\site-packages (from matplotlib>=3.0->gym[other]) (9.2.0)\n",
      "Requirement already satisfied: imageio-ffmpeg>=0.2.0 in c:\\python310\\lib\\site-packages (from moviepy>=1.0.0->gym[other]) (0.4.7)\n",
      "Requirement already satisfied: requests<3.0,>=2.8.1 in c:\\python310\\lib\\site-packages (from moviepy>=1.0.0->gym[other]) (2.27.1)\n",
      "Requirement already satisfied: decorator<5.0,>=4.0.2 in c:\\python310\\lib\\site-packages (from moviepy>=1.0.0->gym[other]) (4.4.2)\n",
      "Requirement already satisfied: proglog<=1.0.0 in c:\\python310\\lib\\site-packages (from moviepy>=1.0.0->gym[other]) (0.1.10)\n",
      "Requirement already satisfied: imageio<3.0,>=2.5 in c:\\python310\\lib\\site-packages (from moviepy>=1.0.0->gym[other]) (2.22.2)\n",
      "Requirement already satisfied: tqdm<5.0,>=4.11.2 in c:\\python310\\lib\\site-packages (from moviepy>=1.0.0->gym[other]) (4.64.1)\n",
      "Requirement already satisfied: six>=1.5 in c:\\users\\ckahrs\\appdata\\roaming\\python\\python310\\site-packages (from python-dateutil>=2.7->matplotlib>=3.0->gym[other]) (1.16.0)\n",
      "Requirement already satisfied: certifi>=2017.4.17 in c:\\python310\\lib\\site-packages (from requests<3.0,>=2.8.1->moviepy>=1.0.0->gym[other]) (2022.5.18.1)\n",
      "Requirement already satisfied: charset-normalizer~=2.0.0 in c:\\python310\\lib\\site-packages (from requests<3.0,>=2.8.1->moviepy>=1.0.0->gym[other]) (2.0.12)\n",
      "Requirement already satisfied: urllib3<1.27,>=1.21.1 in c:\\python310\\lib\\site-packages (from requests<3.0,>=2.8.1->moviepy>=1.0.0->gym[other]) (1.26.9)\n",
      "Requirement already satisfied: idna<4,>=2.5 in c:\\python310\\lib\\site-packages (from requests<3.0,>=2.8.1->moviepy>=1.0.0->gym[other]) (3.3)\n",
      "Requirement already satisfied: colorama in c:\\users\\ckahrs\\appdata\\roaming\\python\\python310\\site-packages (from tqdm<5.0,>=4.11.2->moviepy>=1.0.0->gym[other]) (0.4.5)\n",
      "Note: you may need to restart the kernel to use updated packages.\n"
     ]
    },
    {
     "name": "stderr",
     "output_type": "stream",
     "text": [
      "WARNING: Ignoring invalid distribution -umpy (c:\\python310\\lib\\site-packages)\n",
      "WARNING: Ignoring invalid distribution -ip (c:\\python310\\lib\\site-packages)\n",
      "WARNING: Ignoring invalid distribution -umpy (c:\\python310\\lib\\site-packages)\n",
      "WARNING: Ignoring invalid distribution -ip (c:\\python310\\lib\\site-packages)\n",
      "WARNING: Ignoring invalid distribution -umpy (c:\\python310\\lib\\site-packages)\n",
      "WARNING: Ignoring invalid distribution -ip (c:\\python310\\lib\\site-packages)\n",
      "WARNING: Ignoring invalid distribution -umpy (c:\\python310\\lib\\site-packages)\n",
      "WARNING: Ignoring invalid distribution -ip (c:\\python310\\lib\\site-packages)\n",
      "WARNING: You are using pip version 22.0.4; however, version 22.3 is available.\n",
      "You should consider upgrading via the 'c:\\Python310\\python.exe -m pip install --upgrade pip' command.\n"
     ]
    },
    {
     "name": "stdout",
     "output_type": "stream",
     "text": [
      "Requirement already satisfied: matplotlib in c:\\python310\\lib\\site-packages (3.5.2)\n",
      "Requirement already satisfied: numpy>=1.17 in c:\\python310\\lib\\site-packages (from matplotlib) (1.21.6)\n",
      "Requirement already satisfied: packaging>=20.0 in c:\\users\\ckahrs\\appdata\\roaming\\python\\python310\\site-packages (from matplotlib) (21.3)\n",
      "Requirement already satisfied: cycler>=0.10 in c:\\python310\\lib\\site-packages (from matplotlib) (0.11.0)\n",
      "Requirement already satisfied: pillow>=6.2.0 in c:\\python310\\lib\\site-packages (from matplotlib) (9.2.0)\n",
      "Requirement already satisfied: fonttools>=4.22.0 in c:\\python310\\lib\\site-packages (from matplotlib) (4.34.4)\n",
      "Requirement already satisfied: python-dateutil>=2.7 in c:\\users\\ckahrs\\appdata\\roaming\\python\\python310\\site-packages (from matplotlib) (2.8.2)\n",
      "Requirement already satisfied: pyparsing>=2.2.1 in c:\\users\\ckahrs\\appdata\\roaming\\python\\python310\\site-packages (from matplotlib) (3.0.9)\n",
      "Requirement already satisfied: kiwisolver>=1.0.1 in c:\\python310\\lib\\site-packages (from matplotlib) (1.4.4)\n",
      "Requirement already satisfied: six>=1.5 in c:\\users\\ckahrs\\appdata\\roaming\\python\\python310\\site-packages (from python-dateutil>=2.7->matplotlib) (1.16.0)\n",
      "Note: you may need to restart the kernel to use updated packages.\n"
     ]
    },
    {
     "name": "stderr",
     "output_type": "stream",
     "text": [
      "WARNING: Ignoring invalid distribution -umpy (c:\\python310\\lib\\site-packages)\n",
      "WARNING: Ignoring invalid distribution -ip (c:\\python310\\lib\\site-packages)\n",
      "WARNING: Ignoring invalid distribution -umpy (c:\\python310\\lib\\site-packages)\n",
      "WARNING: Ignoring invalid distribution -ip (c:\\python310\\lib\\site-packages)\n",
      "WARNING: Ignoring invalid distribution -umpy (c:\\python310\\lib\\site-packages)\n",
      "WARNING: Ignoring invalid distribution -ip (c:\\python310\\lib\\site-packages)\n",
      "WARNING: Ignoring invalid distribution -umpy (c:\\python310\\lib\\site-packages)\n",
      "WARNING: Ignoring invalid distribution -ip (c:\\python310\\lib\\site-packages)\n",
      "WARNING: You are using pip version 22.0.4; however, version 22.3 is available.\n",
      "You should consider upgrading via the 'c:\\Python310\\python.exe -m pip install --upgrade pip' command.\n"
     ]
    }
   ],
   "source": [
    "%pip install gym[other]\n",
    "%pip install matplotlib"
   ]
  },
  {
   "cell_type": "code",
   "execution_count": 8,
   "metadata": {},
   "outputs": [
    {
     "name": "stderr",
     "output_type": "stream",
     "text": [
      "c:\\Users\\ckahrs\\Anaconda3\\envs\\hw4_env\\lib\\site-packages\\gym\\utils\\play.py:323: DeprecationWarning: \u001b[33mWARN: `PlayPlot` is marked as deprecated and will be removed in the near future.\u001b[0m\n",
      "  \"`PlayPlot` is marked as deprecated and will be removed in the near future.\"\n"
     ]
    }
   ],
   "source": [
    "import gym\n",
    "import numpy as np\n",
    "from gym.utils.play import play, PlayPlot\n",
    "\n",
    "def callback(obs_t, obs_tp1, action, rew, terminated, truncated, info):\n",
    "       return [rew,]\n",
    "   \n",
    "plotter = PlayPlot(callback, 150, [\"reward\"])\n",
    "kta = {(100,):0,(119,):1}\n",
    "\n",
    "play(gym.make(\"Blackjack-v1\", render_mode=\"rgb_array\"), callback=plotter.callback, \n",
    "              # keys_to_action={\"w\":1,\"s\":0}\n",
    "              keys_to_action=kta\n",
    "              )"
   ]
  }
 ],
 "metadata": {
  "kernelspec": {
   "display_name": "Python 3.7.13 ('hw4_env')",
   "language": "python",
   "name": "python3"
  },
  "language_info": {
   "codemirror_mode": {
    "name": "ipython",
    "version": 3
   },
   "file_extension": ".py",
   "mimetype": "text/x-python",
   "name": "python",
   "nbconvert_exporter": "python",
   "pygments_lexer": "ipython3",
   "version": "3.7.13"
  },
  "orig_nbformat": 4,
  "vscode": {
   "interpreter": {
    "hash": "6241628ca03169c539073f9270cd151db60cb14e39652deee86987017b204276"
   }
  }
 },
 "nbformat": 4,
 "nbformat_minor": 2
}
