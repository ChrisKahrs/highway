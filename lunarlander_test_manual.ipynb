{
 "cells": [
  {
   "cell_type": "code",
   "execution_count": 4,
   "metadata": {},
   "outputs": [],
   "source": [
    "import gym\n",
    "from gym.utils.play import play\n",
    "\n",
    "# env = gym.make(\"LunarLander-v2\", render_mode='rgb_array', gravity=-5.0)\n",
    "env = gym.wrappers.RecordEpisodeStatistics(env)\n",
    "# kta = {(100,):1,(119,):2, (97,):3}\n",
    "# play(env, zoom=2, keys_to_action=kta)\n",
    "\n",
    "env = gym.make(\"CarRacing-v2\", render_mode='rgb_array', continuous=False)\n",
    "env = gym.wrappers.RecordEpisodeStatistics(env)\n",
    "\n",
    "# kta = {(100,):1,(97,):2, (119,):3, (115,):4}\n",
    "play(env, keys_to_action=kta)"
   ]
  },
  {
   "cell_type": "code",
   "execution_count": 2,
   "metadata": {},
   "outputs": [
    {
     "name": "stdout",
     "output_type": "stream",
     "text": [
      "Requirement already satisfied: box2d in c:\\python310\\lib\\site-packages (2.3.2)\n",
      "Collecting box2d-kengz\n",
      "  Downloading Box2D-kengz-2.3.3.tar.gz (425 kB)\n",
      "     -------------------------------------- 425.4/425.4 KB 3.8 MB/s eta 0:00:00\n",
      "  Preparing metadata (setup.py): started\n",
      "  Preparing metadata (setup.py): finished with status 'done'\n",
      "Building wheels for collected packages: box2d-kengz\n",
      "  Building wheel for box2d-kengz (setup.py): started\n",
      "  Building wheel for box2d-kengz (setup.py): finished with status 'done'\n",
      "  Created wheel for box2d-kengz: filename=Box2D_kengz-2.3.3-cp310-cp310-win_amd64.whl size=410410 sha256=71e517e9abef6a5d105485aa6eeafcb8779c4d31544a5d587c95e3baf3fd912a\n",
      "  Stored in directory: c:\\users\\ckahrs\\appdata\\local\\pip\\cache\\wheels\\ab\\a3\\5f\\6396406aa0163da86c2a8d28304a120b55cfa98363654d853b\n",
      "Successfully built box2d-kengz\n",
      "Installing collected packages: box2d-kengz\n",
      "Note: you may need to restart the kernel to use updated packages.\n"
     ]
    },
    {
     "name": "stderr",
     "output_type": "stream",
     "text": [
      "WARNING: Ignoring invalid distribution -umpy (c:\\python310\\lib\\site-packages)\n",
      "WARNING: Ignoring invalid distribution -ip (c:\\python310\\lib\\site-packages)\n",
      "WARNING: Ignoring invalid distribution -umpy (c:\\python310\\lib\\site-packages)\n",
      "WARNING: Ignoring invalid distribution -ip (c:\\python310\\lib\\site-packages)\n",
      "ERROR: Could not install packages due to an OSError: [WinError 5] Access is denied: 'c:\\\\Python310\\\\Lib\\\\site-packages\\\\Box2D\\\\_Box2D.cp310-win_amd64.pyd'\n",
      "Consider using the `--user` option or check the permissions.\n",
      "\n",
      "WARNING: Ignoring invalid distribution -umpy (c:\\python310\\lib\\site-packages)\n",
      "WARNING: Ignoring invalid distribution -ip (c:\\python310\\lib\\site-packages)\n",
      "WARNING: Ignoring invalid distribution -umpy (c:\\python310\\lib\\site-packages)\n",
      "WARNING: Ignoring invalid distribution -ip (c:\\python310\\lib\\site-packages)\n",
      "WARNING: You are using pip version 22.0.4; however, version 22.3 is available.\n",
      "You should consider upgrading via the 'c:\\Python310\\python.exe -m pip install --upgrade pip' command.\n"
     ]
    }
   ],
   "source": [
    "%pip install box2d box2d-kengz"
   ]
  },
  {
   "cell_type": "code",
   "execution_count": 12,
   "metadata": {},
   "outputs": [
    {
     "name": "stderr",
     "output_type": "stream",
     "text": [
      "c:\\Python310\\lib\\site-packages\\gym\\utils\\play.py:322: DeprecationWarning: \u001b[33mWARN: `PlayPlot` is marked as deprecated and will be removed in the near future.\u001b[0m\n",
      "  deprecation(\n"
     ]
    },
    {
     "ename": "DependencyNotInstalled",
     "evalue": "matplotlib is not installed, run `pip install gym[other]`",
     "output_type": "error",
     "traceback": [
      "\u001b[1;31m---------------------------------------------------------------------------\u001b[0m",
      "\u001b[1;31mDependencyNotInstalled\u001b[0m                    Traceback (most recent call last)",
      "\u001b[1;32mc:\\git\\highway\\lunarlander_test_manual.ipynb Cell 3\u001b[0m in \u001b[0;36m<cell line: 8>\u001b[1;34m()\u001b[0m\n\u001b[0;32m      <a href='vscode-notebook-cell:/c%3A/git/highway/lunarlander_test_manual.ipynb#W1sZmlsZQ%3D%3D?line=4'>5</a>\u001b[0m \u001b[39mdef\u001b[39;00m \u001b[39mcallback\u001b[39m(obs_t, obs_tp1, action, rew, terminated, truncated, info):\n\u001b[0;32m      <a href='vscode-notebook-cell:/c%3A/git/highway/lunarlander_test_manual.ipynb#W1sZmlsZQ%3D%3D?line=5'>6</a>\u001b[0m        \u001b[39mreturn\u001b[39;00m [rew,]\n\u001b[1;32m----> <a href='vscode-notebook-cell:/c%3A/git/highway/lunarlander_test_manual.ipynb#W1sZmlsZQ%3D%3D?line=7'>8</a>\u001b[0m plotter \u001b[39m=\u001b[39m PlayPlot(callback, \u001b[39m150\u001b[39;49m, [\u001b[39m\"\u001b[39;49m\u001b[39mreward\u001b[39;49m\u001b[39m\"\u001b[39;49m])\n\u001b[0;32m     <a href='vscode-notebook-cell:/c%3A/git/highway/lunarlander_test_manual.ipynb#W1sZmlsZQ%3D%3D?line=9'>10</a>\u001b[0m play(gym\u001b[39m.\u001b[39mmake(\u001b[39m\"\u001b[39m\u001b[39mCarRacing-v2\u001b[39m\u001b[39m\"\u001b[39m, callback\u001b[39m=\u001b[39mplotter\u001b[39m.\u001b[39mcallback, \n\u001b[0;32m     <a href='vscode-notebook-cell:/c%3A/git/highway/lunarlander_test_manual.ipynb#W1sZmlsZQ%3D%3D?line=10'>11</a>\u001b[0m               render_mode\u001b[39m=\u001b[39m\u001b[39m\"\u001b[39m\u001b[39mrgb_array\u001b[39m\u001b[39m\"\u001b[39m, keys_to_action\u001b[39m=\u001b[39m{\n\u001b[0;32m     <a href='vscode-notebook-cell:/c%3A/git/highway/lunarlander_test_manual.ipynb#W1sZmlsZQ%3D%3D?line=11'>12</a>\u001b[0m                                                \u001b[39m\"\u001b[39m\u001b[39mw\u001b[39m\u001b[39m\"\u001b[39m: np\u001b[39m.\u001b[39marray([\u001b[39m0\u001b[39m, \u001b[39m0.7\u001b[39m, \u001b[39m0\u001b[39m]),\n\u001b[1;32m   (...)\u001b[0m\n\u001b[0;32m     <a href='vscode-notebook-cell:/c%3A/git/highway/lunarlander_test_manual.ipynb#W1sZmlsZQ%3D%3D?line=18'>19</a>\u001b[0m                                                \u001b[39m\"\u001b[39m\u001b[39mas\u001b[39m\u001b[39m\"\u001b[39m: np\u001b[39m.\u001b[39marray([\u001b[39m-\u001b[39m\u001b[39m1\u001b[39m, \u001b[39m0\u001b[39m, \u001b[39m1\u001b[39m]),\n\u001b[0;32m     <a href='vscode-notebook-cell:/c%3A/git/highway/lunarlander_test_manual.ipynb#W1sZmlsZQ%3D%3D?line=19'>20</a>\u001b[0m                                               }, noop\u001b[39m=\u001b[39mnp\u001b[39m.\u001b[39marray([\u001b[39m0\u001b[39m,\u001b[39m0\u001b[39m,\u001b[39m0\u001b[39m])))\n",
      "File \u001b[1;32mc:\\Python310\\lib\\site-packages\\gym\\utils\\play.py:330\u001b[0m, in \u001b[0;36mPlayPlot.__init__\u001b[1;34m(self, callback, horizon_timesteps, plot_names)\u001b[0m\n\u001b[0;32m    327\u001b[0m \u001b[39mself\u001b[39m\u001b[39m.\u001b[39mplot_names \u001b[39m=\u001b[39m plot_names\n\u001b[0;32m    329\u001b[0m \u001b[39mif\u001b[39;00m plt \u001b[39mis\u001b[39;00m \u001b[39mNone\u001b[39;00m:\n\u001b[1;32m--> 330\u001b[0m     \u001b[39mraise\u001b[39;00m DependencyNotInstalled(\n\u001b[0;32m    331\u001b[0m         \u001b[39m\"\u001b[39m\u001b[39mmatplotlib is not installed, run `pip install gym[other]`\u001b[39m\u001b[39m\"\u001b[39m\n\u001b[0;32m    332\u001b[0m     )\n\u001b[0;32m    334\u001b[0m num_plots \u001b[39m=\u001b[39m \u001b[39mlen\u001b[39m(\u001b[39mself\u001b[39m\u001b[39m.\u001b[39mplot_names)\n\u001b[0;32m    335\u001b[0m \u001b[39mself\u001b[39m\u001b[39m.\u001b[39mfig, \u001b[39mself\u001b[39m\u001b[39m.\u001b[39max \u001b[39m=\u001b[39m plt\u001b[39m.\u001b[39msubplots(num_plots)\n",
      "\u001b[1;31mDependencyNotInstalled\u001b[0m: matplotlib is not installed, run `pip install gym[other]`"
     ]
    }
   ],
   "source": [
    "import gym\n",
    "import numpy as np\n",
    "from gym.utils.play import play, PlayPlot\n",
    "\n",
    "def callback(obs_t, obs_tp1, action, rew, terminated, truncated, info):\n",
    "       return [rew,]\n",
    "   \n",
    "plotter = PlayPlot(callback, 150, [\"reward\"])\n",
    "\n",
    "play(gym.make(\"CarRacing-v2\", callback=plotter.callback, \n",
    "              render_mode=\"rgb_array\", keys_to_action={\n",
    "                                               \"w\": np.array([0, 0.7, 0]),\n",
    "                                               \"a\": np.array([-1, 0, 0]),\n",
    "                                               \"s\": np.array([0, 0, 1]),\n",
    "                                               \"d\": np.array([1, 0, 0]),\n",
    "                                               \"wa\": np.array([-1, 0.7, 0]),\n",
    "                                               \"dw\": np.array([1, 0.7, 0]),\n",
    "                                               \"ds\": np.array([1, 0, 1]),\n",
    "                                               \"as\": np.array([-1, 0, 1]),\n",
    "                                              }, noop=np.array([0,0,0])))"
   ]
  },
  {
   "cell_type": "code",
   "execution_count": 11,
   "metadata": {},
   "outputs": [
    {
     "name": "stdout",
     "output_type": "stream",
     "text": [
      "Requirement already satisfied: gym[other] in c:\\python310\\lib\\site-packages (0.26.2)\n",
      "Requirement already satisfied: gym-notices>=0.0.4 in c:\\python310\\lib\\site-packages (from gym[other]) (0.0.7)\n",
      "Requirement already satisfied: cloudpickle>=1.2.0 in c:\\python310\\lib\\site-packages (from gym[other]) (2.1.0)\n",
      "Requirement already satisfied: numpy>=1.18.0 in c:\\python310\\lib\\site-packages (from gym[other]) (1.21.6)\n",
      "Collecting opencv-python>=3.0\n",
      "  Using cached opencv_python-4.6.0.66-cp36-abi3-win_amd64.whl (35.6 MB)\n",
      "Collecting moviepy>=1.0.0\n",
      "  Downloading moviepy-1.0.3.tar.gz (388 kB)\n",
      "     -------------------------------------- 388.3/388.3 KB 3.0 MB/s eta 0:00:00\n",
      "  Preparing metadata (setup.py): started\n",
      "  Preparing metadata (setup.py): finished with status 'done'\n",
      "Requirement already satisfied: matplotlib>=3.0 in c:\\python310\\lib\\site-packages (from gym[other]) (3.5.2)\n",
      "Collecting lz4>=3.1.0\n",
      "  Downloading lz4-4.0.2-cp310-cp310-win_amd64.whl (98 kB)\n",
      "     ---------------------------------------- 98.9/98.9 KB 5.9 MB/s eta 0:00:00\n",
      "Requirement already satisfied: pillow>=6.2.0 in c:\\python310\\lib\\site-packages (from matplotlib>=3.0->gym[other]) (9.2.0)\n",
      "Requirement already satisfied: packaging>=20.0 in c:\\users\\ckahrs\\appdata\\roaming\\python\\python310\\site-packages (from matplotlib>=3.0->gym[other]) (21.3)\n",
      "Requirement already satisfied: cycler>=0.10 in c:\\python310\\lib\\site-packages (from matplotlib>=3.0->gym[other]) (0.11.0)\n",
      "Requirement already satisfied: kiwisolver>=1.0.1 in c:\\python310\\lib\\site-packages (from matplotlib>=3.0->gym[other]) (1.4.4)\n",
      "Requirement already satisfied: fonttools>=4.22.0 in c:\\python310\\lib\\site-packages (from matplotlib>=3.0->gym[other]) (4.34.4)\n",
      "Requirement already satisfied: pyparsing>=2.2.1 in c:\\users\\ckahrs\\appdata\\roaming\\python\\python310\\site-packages (from matplotlib>=3.0->gym[other]) (3.0.9)\n",
      "Requirement already satisfied: python-dateutil>=2.7 in c:\\users\\ckahrs\\appdata\\roaming\\python\\python310\\site-packages (from matplotlib>=3.0->gym[other]) (2.8.2)\n",
      "Collecting decorator<5.0,>=4.0.2\n",
      "  Downloading decorator-4.4.2-py2.py3-none-any.whl (9.2 kB)\n",
      "Collecting tqdm<5.0,>=4.11.2\n",
      "  Using cached tqdm-4.64.1-py2.py3-none-any.whl (78 kB)\n",
      "Requirement already satisfied: requests<3.0,>=2.8.1 in c:\\python310\\lib\\site-packages (from moviepy>=1.0.0->gym[other]) (2.27.1)\n",
      "Collecting proglog<=1.0.0\n",
      "  Downloading proglog-0.1.10-py3-none-any.whl (6.1 kB)\n",
      "Collecting imageio<3.0,>=2.5\n",
      "  Downloading imageio-2.22.2-py3-none-any.whl (3.4 MB)\n",
      "     ---------------------------------------- 3.4/3.4 MB 15.4 MB/s eta 0:00:00\n",
      "Collecting imageio_ffmpeg>=0.2.0\n",
      "  Downloading imageio_ffmpeg-0.4.7-py3-none-win_amd64.whl (22.6 MB)\n",
      "     --------------------------------------- 22.6/22.6 MB 17.3 MB/s eta 0:00:00\n",
      "Requirement already satisfied: six>=1.5 in c:\\users\\ckahrs\\appdata\\roaming\\python\\python310\\site-packages (from python-dateutil>=2.7->matplotlib>=3.0->gym[other]) (1.16.0)\n",
      "Requirement already satisfied: certifi>=2017.4.17 in c:\\python310\\lib\\site-packages (from requests<3.0,>=2.8.1->moviepy>=1.0.0->gym[other]) (2022.5.18.1)\n",
      "Requirement already satisfied: charset-normalizer~=2.0.0 in c:\\python310\\lib\\site-packages (from requests<3.0,>=2.8.1->moviepy>=1.0.0->gym[other]) (2.0.12)\n",
      "Requirement already satisfied: urllib3<1.27,>=1.21.1 in c:\\python310\\lib\\site-packages (from requests<3.0,>=2.8.1->moviepy>=1.0.0->gym[other]) (1.26.9)\n",
      "Requirement already satisfied: idna<4,>=2.5 in c:\\python310\\lib\\site-packages (from requests<3.0,>=2.8.1->moviepy>=1.0.0->gym[other]) (3.3)\n",
      "Requirement already satisfied: colorama in c:\\users\\ckahrs\\appdata\\roaming\\python\\python310\\site-packages (from tqdm<5.0,>=4.11.2->moviepy>=1.0.0->gym[other]) (0.4.5)\n",
      "Building wheels for collected packages: moviepy\n",
      "  Building wheel for moviepy (setup.py): started\n",
      "  Building wheel for moviepy (setup.py): finished with status 'done'\n",
      "  Created wheel for moviepy: filename=moviepy-1.0.3-py3-none-any.whl size=110728 sha256=79f31468bb17cff5d99838b25a1a8643c581b53636e5d4e2e0573a948897f2fb\n",
      "  Stored in directory: c:\\users\\ckahrs\\appdata\\local\\pip\\cache\\wheels\\96\\32\\2d\\e10123bd88fbfc02fed53cc18c80a171d3c87479ed845fa7c1\n",
      "Successfully built moviepy\n",
      "Installing collected packages: tqdm, opencv-python, lz4, imageio_ffmpeg, imageio, decorator, proglog, moviepy\n",
      "Note: you may need to restart the kernel to use updated packages.\n"
     ]
    },
    {
     "name": "stderr",
     "output_type": "stream",
     "text": [
      "WARNING: Ignoring invalid distribution -umpy (c:\\python310\\lib\\site-packages)\n",
      "WARNING: Ignoring invalid distribution -ip (c:\\python310\\lib\\site-packages)\n",
      "WARNING: Ignoring invalid distribution -umpy (c:\\python310\\lib\\site-packages)\n",
      "WARNING: Ignoring invalid distribution -ip (c:\\python310\\lib\\site-packages)\n",
      "  WARNING: Failed to write executable - trying to use .deleteme logic\n",
      "ERROR: Could not install packages due to an OSError: [WinError 2] The system cannot find the file specified: 'c:\\\\Python310\\\\Scripts\\\\tqdm.exe' -> 'c:\\\\Python310\\\\Scripts\\\\tqdm.exe.deleteme'\n",
      "\n",
      "WARNING: Ignoring invalid distribution -umpy (c:\\python310\\lib\\site-packages)\n",
      "WARNING: Ignoring invalid distribution -ip (c:\\python310\\lib\\site-packages)\n",
      "WARNING: Ignoring invalid distribution -umpy (c:\\python310\\lib\\site-packages)\n",
      "WARNING: Ignoring invalid distribution -ip (c:\\python310\\lib\\site-packages)\n",
      "WARNING: You are using pip version 22.0.4; however, version 22.3 is available.\n",
      "You should consider upgrading via the 'c:\\Python310\\python.exe -m pip install --upgrade pip' command.\n"
     ]
    }
   ],
   "source": [
    "# %pip install gym[other]"
   ]
  },
  {
   "cell_type": "code",
   "execution_count": null,
   "metadata": {},
   "outputs": [],
   "source": []
  }
 ],
 "metadata": {
  "kernelspec": {
   "display_name": "Python 3.10.4 64-bit",
   "language": "python",
   "name": "python3"
  },
  "language_info": {
   "codemirror_mode": {
    "name": "ipython",
    "version": 3
   },
   "file_extension": ".py",
   "mimetype": "text/x-python",
   "name": "python",
   "nbconvert_exporter": "python",
   "pygments_lexer": "ipython3",
   "version": "3.10.4"
  },
  "orig_nbformat": 4,
  "vscode": {
   "interpreter": {
    "hash": "369f2c481f4da34e4445cda3fffd2e751bd1c4d706f27375911949ba6bb62e1c"
   }
  }
 },
 "nbformat": 4,
 "nbformat_minor": 2
}
