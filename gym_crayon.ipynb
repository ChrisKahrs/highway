{
 "cells": [
  {
   "cell_type": "markdown",
   "metadata": {},
   "source": [
    "* Switch to hw4_env environment"
   ]
  },
  {
   "cell_type": "markdown",
   "metadata": {},
   "source": [
    "## Blackjack\n",
    "- Self Play\n",
    "- Reward Plot"
   ]
  },
  {
   "cell_type": "code",
   "execution_count": null,
   "metadata": {},
   "outputs": [],
   "source": [
    "import gym\n",
    "import numpy as np\n",
    "from gym.utils.play import play, PlayPlot\n",
    "\n",
    "def callback(obs_t, obs_tp1, action, rew, terminated, truncated, info):\n",
    "       return [rew,]\n",
    "   \n",
    "plotter = PlayPlot(callback, 150, [\"reward\"])\n",
    "kta = {(100,):0,(119,):1}\n",
    "# Unsure why KTA is not working\n",
    "\n",
    "play(gym.make(\"Blackjack-v1\", render_mode=\"rgb_array\"), callback=plotter.callback, \n",
    "              keys_to_action=kta\n",
    "              )"
   ]
  },
  {
   "cell_type": "markdown",
   "metadata": {},
   "source": [
    "## Blackjack \n",
    "- human input"
   ]
  },
  {
   "cell_type": "code",
   "execution_count": null,
   "metadata": {},
   "outputs": [],
   "source": [
    "import gym\n",
    "import numpy as np\n",
    "from gym.utils.play import play, PlayPlot\n",
    "\n",
    "env = gym.make(\"Blackjack-v1\", render_mode=\"human\")\n",
    "\n",
    "obs, info = env.reset(seed=2)\n",
    "env.render()\n",
    "terminated = False\n",
    "while not terminated:\n",
    "    action = int(input(\"Enter action: \"))\n",
    "    obs, rew, terminated, truncated, info = env.step(action)\n",
    "    env.render()\n",
    "    print(\"obs:\", obs)\n",
    "    print(\"Reward: \", rew)\n",
    "    print(\"Terminated: \", terminated)\n",
    "    print(\"truncated: \", truncated)\n",
    "    print(\"info: \", info)\n",
    "env.close()"
   ]
  },
  {
   "cell_type": "markdown",
   "metadata": {},
   "source": [
    "Tutorial: https://gymnasium.farama.org/tutorials/blackjack_tutorial/"
   ]
  },
  {
   "cell_type": "markdown",
   "metadata": {},
   "source": [
    "## Car Racing\n",
    "* human play\n",
    "* Reward plot"
   ]
  },
  {
   "cell_type": "code",
   "execution_count": null,
   "metadata": {},
   "outputs": [],
   "source": [
    "import gym\n",
    "import numpy as np\n",
    "from gym.utils.play import play, PlayPlot\n",
    "\n",
    "def callback(obs_t, obs_tp1, action, rew, terminated, truncated, info):\n",
    "       return [rew,]\n",
    "   \n",
    "plotter = PlayPlot(callback, 150, [\"reward\"])\n",
    "\n",
    "play(gym.make(\"CarRacing-v2\", render_mode=\"rgb_array\"), callback=plotter.callback, \n",
    "              keys_to_action={\n",
    "                                               \"w\": np.array([0, 0.7, 0]),\n",
    "                                               \"a\": np.array([-1, 0, 0]),\n",
    "                                               \"s\": np.array([0, 0, 1]),\n",
    "                                               \"d\": np.array([1, 0, 0]),\n",
    "                                               \"wa\": np.array([-1, 0.7, 0]),\n",
    "                                               \"dw\": np.array([1, 0.7, 0]),\n",
    "                                               \"ds\": np.array([1, 0, 1]),\n",
    "                                               \"as\": np.array([-1, 0, 1]),\n",
    "                                              }, noop=np.array([0,0,0]))"
   ]
  },
  {
   "cell_type": "markdown",
   "metadata": {},
   "source": [
    "A better human racing: python gymnasium/envs/box2d/car_racing.py"
   ]
  },
  {
   "cell_type": "markdown",
   "metadata": {},
   "source": [
    "## Lunar Lander\n",
    "- unknown"
   ]
  },
  {
   "cell_type": "code",
   "execution_count": null,
   "metadata": {},
   "outputs": [],
   "source": [
    "import gym\n",
    "from gym.utils.play import play\n",
    "\n",
    "env = gym.make(\"LunarLander-v2\", render_mode='rgb_array', gravity=-5.0)\n",
    "env = gym.wrappers.RecordEpisodeStatistics(env)\n",
    "kta = {(100,):1,(119,):2, (97,):3}\n",
    "play(env, zoom=2, keys_to_action=kta)\n",
    "\n"
   ]
  },
  {
   "cell_type": "markdown",
   "metadata": {},
   "source": [
    "## Highway Gym\n",
    "* manual play"
   ]
  },
  {
   "cell_type": "code",
   "execution_count": 3,
   "metadata": {},
   "outputs": [
    {
     "name": "stdout",
     "output_type": "stream",
     "text": [
      "reward:  0.7999999999999999\n",
      "reward:  0.7999999999999999\n",
      "reward:  0.7999999999999999\n",
      "reward:  0.7999999999999999\n",
      "reward:  0.7999999999999999\n",
      "reward:  0.7999999999999999\n",
      "reward:  0.8871414111847175\n",
      "reward:  0.9254396773033683\n",
      "reward:  0.9319844003896266\n",
      "reward:  0.9647745120972226\n",
      "reward:  0.9666180349352379\n",
      "reward:  0.9666599147043241\n",
      "reward:  0.9952108424555425\n",
      "reward:  0.9999582597133855\n",
      "reward:  0.9999998551762735\n",
      "reward:  0.9999999941161674\n",
      "reward:  0.9644547664689805\n",
      "reward:  0.9666531177227727\n",
      "reward:  0.033262962871013414\n",
      "Total reward: 16.40215774913863\n"
     ]
    }
   ],
   "source": [
    "import gym\n",
    "import highway_env\n",
    "\n",
    "config = {\n",
    "    \"simulation_frequency\": 15,\n",
    "    \"show_trajectories\": False,\n",
    "    \"manual_control\": True,\n",
    "    \"observation\": {\n",
    "        \"type\": \"Kinematics\",\n",
    "        \"vehicles_count\": 15,\n",
    "        \"features\": [\"presence\", \"x\", \"y\", \"vx\", \"vy\", \"cos_h\", \"sin_h\"],\n",
    "        \"features_range\": {\n",
    "            \"x\": [-100, 100],\n",
    "            \"y\": [-100, 100],\n",
    "            \"vx\": [-20, 20],\n",
    "            \"vy\": [-20, 20]\n",
    "        },\n",
    "        \"absolute\": False,\n",
    "        \"order\": \"sorted\"\n",
    "    }\n",
    "}\n",
    "# env = gym.make('highway-fast-v0')\n",
    "env = gym.make('highway-v0')\n",
    "env.configure(config)\n",
    "\n",
    "total_reward = 0\n",
    "env.reset()\n",
    "done = False\n",
    "while not done:\n",
    "    obs, reward, done, info = env.step(env.action_space.sample())\n",
    "    print(\"reward: \", reward)\n",
    "    total_reward += reward\n",
    "    env.render()\n",
    "    \n",
    "print(\"Total reward:\", total_reward)\n",
    "env.close()"
   ]
  }
 ],
 "metadata": {
  "kernelspec": {
   "display_name": "Python 3.7.13 ('hw4_env')",
   "language": "python",
   "name": "python3"
  },
  "language_info": {
   "codemirror_mode": {
    "name": "ipython",
    "version": 3
   },
   "file_extension": ".py",
   "mimetype": "text/x-python",
   "name": "python",
   "nbconvert_exporter": "python",
   "pygments_lexer": "ipython3",
   "version": "3.7.13"
  },
  "orig_nbformat": 4,
  "vscode": {
   "interpreter": {
    "hash": "6241628ca03169c539073f9270cd151db60cb14e39652deee86987017b204276"
   }
  }
 },
 "nbformat": 4,
 "nbformat_minor": 2
}
